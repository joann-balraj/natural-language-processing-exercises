{
 "cells": [
  {
   "cell_type": "markdown",
   "id": "a832f896",
   "metadata": {},
   "source": [
    "# Regular Expressions Exercises\n",
    "***"
   ]
  },
  {
   "cell_type": "markdown",
   "id": "602ca1ae",
   "metadata": {},
   "source": [
    "#### 1. Write a function named is_vowel.\n",
    "   - It should accept a string as input and use a regular expression to determine if the passed string is a vowel.\n",
    "   - While not explicity mentioned in the lesson, you can treat the result of re.search as a boolean value that indicates whether or not the regular expression matches the given string."
   ]
  },
  {
   "cell_type": "code",
   "execution_count": 1,
   "id": "837a816d",
   "metadata": {},
   "outputs": [],
   "source": [
    "import pandas as pd\n",
    "import re\n",
    "\n",
    "# Ignore Warnings\n",
    "import warnings\n",
    "warnings.filterwarnings(\"ignore\")"
   ]
  },
  {
   "cell_type": "code",
   "execution_count": 41,
   "id": "81fd2ab4",
   "metadata": {},
   "outputs": [],
   "source": [
    "# Create function to check if string passed is a vowel\n",
    "def is_vowel(st):\n",
    "    \n",
    "    # Make a regular expression to check string is vowel\n",
    "    regex = r'^[aeiouAEIOU]$'\n",
    "    \n",
    "     # Pass the regular expression and the string in search() method\n",
    "    if(re.search(regex, st)):\n",
    "        result = True\n",
    "         \n",
    "    else:\n",
    "        result = False\n",
    "    \n",
    "    \n",
    "    return result"
   ]
  },
  {
   "cell_type": "code",
   "execution_count": 42,
   "id": "9ab45d1b",
   "metadata": {},
   "outputs": [
    {
     "data": {
      "text/plain": [
       "(True, False)"
      ]
     },
     "execution_count": 42,
     "metadata": {},
     "output_type": "execute_result"
    }
   ],
   "source": [
    "is_vowel('a'), is_vowel('b')"
   ]
  },
  {
   "cell_type": "markdown",
   "id": "9114ad15",
   "metadata": {},
   "source": [
    "#### 2.) Write a function named is_valid_username that accepts a string as input. \n",
    "- A valid username starts with a lowercase letter, and only consists of lowercase letters, numbers, or the _ character. \n",
    "- It should also be no longer than 32 characters. \n",
    "- The function should return either True or False depending on whether the passed string is a valid username."
   ]
  },
  {
   "cell_type": "code",
   "execution_count": 43,
   "id": "620f3a33",
   "metadata": {},
   "outputs": [],
   "source": [
    "#Create a function that checks whether the string is a valid username\n",
    "def is_valid_username(st):\n",
    "    \n",
    "    # Make a regular expression to model a valid username\n",
    "    regex =r'^[a-z][a-z0-9_+]{2,31}$'\n",
    "    \n",
    "    # pass the regular expression and the string in search() method\n",
    "    if(re.search(regex, st)):\n",
    "        result = True\n",
    "         \n",
    "    else:\n",
    "        result = False\n",
    "    \n",
    "    \n",
    "    return result"
   ]
  },
  {
   "cell_type": "code",
   "execution_count": 44,
   "id": "9feedff4",
   "metadata": {},
   "outputs": [
    {
     "data": {
      "text/plain": [
       "False"
      ]
     },
     "execution_count": 44,
     "metadata": {},
     "output_type": "execute_result"
    }
   ],
   "source": [
    " is_valid_username('aaaaaaaaaaaaaaaaaaaaaaaaaaaaaaaaa')"
   ]
  },
  {
   "cell_type": "code",
   "execution_count": 45,
   "id": "663406de",
   "metadata": {},
   "outputs": [
    {
     "data": {
      "text/plain": [
       "True"
      ]
     },
     "execution_count": 45,
     "metadata": {},
     "output_type": "execute_result"
    }
   ],
   "source": [
    "is_valid_username('codeup')"
   ]
  },
  {
   "cell_type": "code",
   "execution_count": 46,
   "id": "7703784c",
   "metadata": {},
   "outputs": [
    {
     "data": {
      "text/plain": [
       "False"
      ]
     },
     "execution_count": 46,
     "metadata": {},
     "output_type": "execute_result"
    }
   ],
   "source": [
    "is_valid_username('Codeup')"
   ]
  },
  {
   "cell_type": "code",
   "execution_count": 47,
   "id": "20e46fab",
   "metadata": {},
   "outputs": [
    {
     "data": {
      "text/plain": [
       "True"
      ]
     },
     "execution_count": 47,
     "metadata": {},
     "output_type": "execute_result"
    }
   ],
   "source": [
    "is_valid_username('codeup123')"
   ]
  },
  {
   "cell_type": "code",
   "execution_count": 48,
   "id": "f62067c8",
   "metadata": {},
   "outputs": [
    {
     "data": {
      "text/plain": [
       "False"
      ]
     },
     "execution_count": 48,
     "metadata": {},
     "output_type": "execute_result"
    }
   ],
   "source": [
    "is_valid_username('1codeup')"
   ]
  },
  {
   "cell_type": "markdown",
   "id": "7bd36c96",
   "metadata": {},
   "source": [
    "#### 3.) Write a regular expression to capture phone numbers. It should match all of the following:\n",
    "- (210) 867 5309\n",
    "- +1 210.867.5309\n",
    "- 867-5309\n",
    "- 210-867-5309"
   ]
  },
  {
   "cell_type": "code",
   "execution_count": 26,
   "id": "dd26bda0",
   "metadata": {},
   "outputs": [
    {
     "data": {
      "text/plain": [
       "['(210) 867 5309']"
      ]
     },
     "execution_count": 26,
     "metadata": {},
     "output_type": "execute_result"
    }
   ],
   "source": [
    "regex = r'[(]\\d{3}[)]\\s[0-9]{3}\\s[0-9]{4}'\n",
    "subject = '(210) 867 5309'\n",
    "\n",
    "re.findall(regex, subject)"
   ]
  },
  {
   "cell_type": "code",
   "execution_count": 33,
   "id": "b8dca467",
   "metadata": {},
   "outputs": [
    {
     "data": {
      "text/plain": [
       "['+1 210.867.5309']"
      ]
     },
     "execution_count": 33,
     "metadata": {},
     "output_type": "execute_result"
    }
   ],
   "source": [
    "regex = r'[+]\\d\\s\\d{3}[.][0-9]{3}[.][0-9]{4}'\n",
    "subject = '+1 210.867.5309'\n",
    "\n",
    "re.findall(regex, subject)"
   ]
  },
  {
   "cell_type": "code",
   "execution_count": 34,
   "id": "ec5b5076",
   "metadata": {},
   "outputs": [
    {
     "data": {
      "text/plain": [
       "['867-5309']"
      ]
     },
     "execution_count": 34,
     "metadata": {},
     "output_type": "execute_result"
    }
   ],
   "source": [
    "regex = r'[0-9]{3}[-][0-9]{4}'\n",
    "subject = '867-5309'\n",
    "\n",
    "re.findall(regex, subject)"
   ]
  },
  {
   "cell_type": "code",
   "execution_count": 35,
   "id": "9026a5d2",
   "metadata": {},
   "outputs": [
    {
     "data": {
      "text/plain": [
       "['210-867-5309']"
      ]
     },
     "execution_count": 35,
     "metadata": {},
     "output_type": "execute_result"
    }
   ],
   "source": [
    "regex = r'[0-9]{3}[-][0-9]{3}[-][0-9]{4}'\n",
    "subject = '210-867-5309'\n",
    "\n",
    "re.findall(regex, subject)"
   ]
  },
  {
   "cell_type": "markdown",
   "id": "9dd7aa2e",
   "metadata": {},
   "source": [
    "#### 4.) Use regular expressions to convert the dates below to the standardized year-month-day format.\n",
    "- 02/04/19\n",
    "- 02/05/19\n",
    "- 02/06/19\n",
    "- 02/07/19\n",
    "- 02/08/19\n",
    "- 02/09/19\n",
    "- 02/10/19"
   ]
  },
  {
   "cell_type": "code",
   "execution_count": 2,
   "id": "29981c16",
   "metadata": {},
   "outputs": [
    {
     "data": {
      "text/plain": [
       "0    2019-02-04\n",
       "dtype: object"
      ]
     },
     "execution_count": 2,
     "metadata": {},
     "output_type": "execute_result"
    }
   ],
   "source": [
    "regex = r'(\\d+)/(\\d+)/(\\d+)'\n",
    "dates = pd.Series(['02/04/19'])\n",
    "dates.str.replace(regex, r'20\\3-\\1-\\2')"
   ]
  },
  {
   "cell_type": "code",
   "execution_count": 134,
   "id": "e48cc047",
   "metadata": {},
   "outputs": [],
   "source": [
    "date_list = [\n",
    "    '02/04/19',\n",
    "    '02/05/19',\n",
    "    '02/06/19',\n",
    "    '02/07/19',\n",
    "    '02/08/19',\n",
    "    '02/09/19',\n",
    "    '02/10/19']"
   ]
  },
  {
   "cell_type": "code",
   "execution_count": 135,
   "id": "1f7014e3",
   "metadata": {},
   "outputs": [
    {
     "data": {
      "text/plain": [
       "'2019-02-04'"
      ]
     },
     "execution_count": 135,
     "metadata": {},
     "output_type": "execute_result"
    }
   ],
   "source": [
    "regex = r'(\\d+)/(\\d+)/(\\d+)'\n",
    "re.sub(regex, r'20\\3-\\1-\\2',date_list[0])"
   ]
  },
  {
   "cell_type": "code",
   "execution_count": 136,
   "id": "e5bdbc91",
   "metadata": {},
   "outputs": [
    {
     "data": {
      "text/plain": [
       "['2019-02-04',\n",
       " '2019-02-05',\n",
       " '2019-02-06',\n",
       " '2019-02-07',\n",
       " '2019-02-08',\n",
       " '2019-02-09',\n",
       " '2019-02-10']"
      ]
     },
     "execution_count": 136,
     "metadata": {},
     "output_type": "execute_result"
    }
   ],
   "source": [
    "[re.sub(regex, r'20\\3-\\1-\\2',date) for date in date_list]"
   ]
  },
  {
   "cell_type": "markdown",
   "id": "7ffe8eef",
   "metadata": {},
   "source": [
    "#### 5.) Write a regex to extract the various parts of these logfile lines:\n",
    "\n",
    "GET /api/v1/sales?page=86 [16/Apr/2019:193452+0000] HTTP/1.1 {200} 510348 \"python-requests/2.21.0\" 97.105.19.58\n",
    "POST /users_accounts/file-upload [16/Apr/2019:193452+0000] HTTP/1.1 {201} 42 \"User-Agent: Mozilla/5.0 (X11; Fedora; Fedora; Linux x86_64) AppleWebKit/537.36 (KHTML, like Gecko) Chrome/73.0.3683.86 Safari/537.36\" 97.105.19.58\n",
    "GET /api/v1/items?page=3 [16/Apr/2019:193453+0000] HTTP/1.1 {429} 3561 \"python-requests/2.21.0\" 97.105.19.58"
   ]
  },
  {
   "cell_type": "code",
   "execution_count": 139,
   "id": "f231ce35",
   "metadata": {},
   "outputs": [
    {
     "data": {
      "text/plain": [
       "['GET /api/v1/sales?page=86 [16/Apr/2019:193452+0000] HTTP/1.1 {200} 510348 \"python-requests/2.21.0\" 97.105.19.58 ']"
      ]
     },
     "execution_count": 139,
     "metadata": {},
     "output_type": "execute_result"
    }
   ],
   "source": [
    "regex = r'^[A-Z]+\\s/.*\\s[[].*[]]\\sHTTP/1.1\\s{\\d+}\\s\\d+\\s\\\".*\\\"\\s.*'\n",
    "\n",
    "subject = 'GET /api/v1/sales?page=86 [16/Apr/2019:193452+0000] HTTP/1.1 {200} 510348 \"python-requests/2.21.0\" 97.105.19.58 '\n",
    "\n",
    "re.findall(regex, subject)"
   ]
  },
  {
   "cell_type": "code",
   "execution_count": 140,
   "id": "22e918f5",
   "metadata": {},
   "outputs": [
    {
     "data": {
      "text/plain": [
       "['POST /users_accounts/file-upload [16/Apr/2019:193452+0000] HTTP/1.1 {201} 42 \"User-Agent: Mozilla/5.0 (X11; Fedora; Fedora; Linux x86_64) AppleWebKit/537.36 (KHTML, like Gecko) Chrome/73.0.3683.86 Safari/537.36\" 97.105.19.58 ']"
      ]
     },
     "execution_count": 140,
     "metadata": {},
     "output_type": "execute_result"
    }
   ],
   "source": [
    "regex = r'^[A-Z]+\\s/.*\\s[[].*[]]\\sHTTP/1.1\\s{\\d+}\\s\\d+\\s\\\".*\\\"\\s.*'\n",
    "\n",
    "subject = 'POST /users_accounts/file-upload [16/Apr/2019:193452+0000] HTTP/1.1 {201} 42 \"User-Agent: Mozilla/5.0 (X11; Fedora; Fedora; Linux x86_64) AppleWebKit/537.36 (KHTML, like Gecko) Chrome/73.0.3683.86 Safari/537.36\" 97.105.19.58 '\n",
    "\n",
    "re.findall(regex, subject)"
   ]
  },
  {
   "cell_type": "code",
   "execution_count": 141,
   "id": "1af10235",
   "metadata": {},
   "outputs": [
    {
     "data": {
      "text/plain": [
       "['GET /api/v1/items?page=3 [16/Apr/2019:193453+0000] HTTP/1.1 {429} 3561 \"python-requests/2.21.0\" 97.105.19.58 ']"
      ]
     },
     "execution_count": 141,
     "metadata": {},
     "output_type": "execute_result"
    }
   ],
   "source": [
    "regex = r'^[A-Z]+\\s/.*\\s[[].*[]]\\sHTTP/1.1\\s{\\d+}\\s\\d+\\s\\\".*\\\"\\s.*\\s'\n",
    "\n",
    "subject = 'GET /api/v1/items?page=3 [16/Apr/2019:193453+0000] HTTP/1.1 {429} 3561 \"python-requests/2.21.0\" 97.105.19.58 '\n",
    "\n",
    "re.findall(regex, subject)"
   ]
  },
  {
   "cell_type": "markdown",
   "id": "655159bf",
   "metadata": {},
   "source": [
    "#### BONUS: You can find a list of words on your mac at /usr/share/dict/words. Use this file to answer the following questions:\n",
    "- How many words have at least 3 vowels?\n",
    "- How many words have at least 3 vowels in a row?\n",
    "- How many words have at least 4 consonants in a row?\n",
    "- How many words start and end with the same letter?\n",
    "- How many words start and end with a vowel?\n",
    "- How many words contain the same letter 3 times in a row?\n",
    "- What other interesting patterns in words can you find?"
   ]
  },
  {
   "cell_type": "code",
   "execution_count": 145,
   "id": "e802c48f",
   "metadata": {},
   "outputs": [],
   "source": [
    "import requests\n",
    "from bs4 import BeautifulSoup"
   ]
  },
  {
   "cell_type": "code",
   "execution_count": 146,
   "id": "a8e539b7",
   "metadata": {},
   "outputs": [],
   "source": [
    "def parse_news_article(article):\n",
    "    title = article.h2.text\n",
    "    date, author = article.select('.italic')[0].find_all('p')\n",
    "    return {'title': title, 'date': date.text, 'author': author.text}"
   ]
  },
  {
   "cell_type": "code",
   "execution_count": null,
   "id": "af2455a9",
   "metadata": {},
   "outputs": [],
   "source": [
    "response = requests.get('https://web-scraping-demo.zgulde.net/news')\n",
    "soup = BeautifulSoup(response.text)\n",
    "articles = soup.select('.grid.gap-y-12 > div')\n",
    "pd.DataFrame([parse_news_article(article) for article in articles])"
   ]
  }
 ],
 "metadata": {
  "kernelspec": {
   "display_name": "Python 3",
   "language": "python",
   "name": "python3"
  },
  "language_info": {
   "codemirror_mode": {
    "name": "ipython",
    "version": 3
   },
   "file_extension": ".py",
   "mimetype": "text/x-python",
   "name": "python",
   "nbconvert_exporter": "python",
   "pygments_lexer": "ipython3",
   "version": "3.8.8"
  }
 },
 "nbformat": 4,
 "nbformat_minor": 5
}
