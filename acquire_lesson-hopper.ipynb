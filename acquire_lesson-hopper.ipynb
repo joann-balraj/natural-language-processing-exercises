{
 "cells": [
  {
   "cell_type": "markdown",
   "metadata": {},
   "source": [
    "# Data Acquisition with Web Scraping"
   ]
  },
  {
   "cell_type": "code",
   "execution_count": 1,
   "metadata": {},
   "outputs": [],
   "source": [
    "import requests\n",
    "from bs4 import BeautifulSoup\n",
    "import pandas as pd\n",
    "import os"
   ]
  },
  {
   "cell_type": "markdown",
   "metadata": {},
   "source": [
    "`$ pip install beautifulsoup4`"
   ]
  },
  {
   "cell_type": "markdown",
   "metadata": {},
   "source": [
    "## Soup Methods\n",
    "\n",
    "- `soup.select('.class')`: to get all the elements with class `class`\n",
    "- `soup.select_one('.class')`: to get the first element with class `class`\n",
    "- `soup.h2`: to get the first `h2` element\n",
    "- `soup.find_all('h2')`: to get all the elements with tag name of `h2`\n",
    "- `soup('h2')` : same as `find_all` method above\n",
    "- `soup.find('h2')`: finds the first matching element"
   ]
  },
  {
   "cell_type": "markdown",
   "metadata": {},
   "source": [
    "First make the request. The response is a bunch of html."
   ]
  },
  {
   "cell_type": "code",
   "execution_count": 2,
   "metadata": {},
   "outputs": [],
   "source": [
    "response = requests.get('https://web-scraping-demo.zgulde.net/news')\n",
    "html = response.text\n",
    "# html"
   ]
  },
  {
   "cell_type": "markdown",
   "metadata": {},
   "source": [
    "We can make more sense of that html with the beautiful soup library."
   ]
  },
  {
   "cell_type": "code",
   "execution_count": 3,
   "metadata": {},
   "outputs": [
    {
     "name": "stdout",
     "output_type": "stream",
     "text": [
      "<!DOCTYPE html>\n",
      "<html lang=\"en\">\n",
      " <head>\n",
      "  <meta charset=\"utf-8\"/>\n",
      "  <meta content=\"IE=edge\" http-equiv=\"X-UA-Compatible\"/>\n",
      "  <meta content=\"width=device-width, initial-scale=1.0\" name=\"viewport\"/>\n",
      "  <title>\n",
      "   News Example Page\n",
      "  </title>\n",
      "  <link href=\"https://unpkg.com/tailwindcss@^2/dist/tailwind.min.css\" rel=\"stylesheet\"/>\n",
      "  <link href=\"https://cdn.jsdelivr.net/npm/bootstrap-icons@1.4.1/font/bootstrap-icons.css\" rel=\"stylesheet\"/>\n",
      " </head>\n",
      " <body class=\"mx-auto max-w-screen-lg pb-32\">\n",
      "  <h1 class=\"my-5 text-4xl text-center\">\n",
      "   News!\n",
      "  </h1>\n",
      "  <div class=\"my-5 text-red-800 px-5 py-3 bg-red-100 font-bold\">\n",
      "   <p>\n",
      "    <i class=\"bi bi-exclamation-circle text-xl\">\n",
      "    </i>\n",
      "    All data on this page is strictly for demonstration purposes and fake.\n",
      "   </p>\n",
      "  </div>\n",
      "  <div class=\"grid gap-y-12\">\n",
      "   <div class=\"grid grid-cols-4 gap-x-4 border rounded pr-3 bg-green-50 hover:shadow-lg transition duration-500\">\n",
      "    <img src=\"/static/placeholder.png\"/>\n",
      "    <div class=\"col-span-3 space-y-3 py-3\">\n",
      "     <h2 class=\"text-2xl text-green-900\">\n",
      "      throughout time quality\n",
      "     </h2>\n",
      "     <div class=\"grid grid-cols-2 italic\">\n",
      "      <p>\n",
      "       1977-10-15\n",
      "      </p>\n",
      "      <p class=\"text-right\">\n",
      "       By Hannah Villarreal\n",
      "      </p>\n",
      "     </div>\n",
      "     <p>\n",
      "      Part entire challenge truth resource between fund fund. Government describe attention.\n",
      "Single religious green war identify. Sea mother fight hospital country water girl. Prevent no conference management attention.\n",
      "     </p>\n",
      "    </div>\n",
      "   </div>\n",
      "   <div class=\"grid grid-cols-4 gap-x-4 border rounded pr-3 bg-green-50 hover:shadow-lg transition duration-500\">\n",
      "    <img src=\"/static/placeholder.png\"/>\n",
      "    <div class=\"col-span-3 space-y-3 py-3\">\n",
      "     <h2 class=\"text-2xl text-green-900\">\n",
      "      among detail begin\n",
      "     </h2>\n",
      "     <div class=\"grid grid-cols-2 italic\">\n",
      "      <p>\n",
      "       1974-02-12\n",
      "      </p>\n",
      "      <p class=\"text-right\">\n",
      "       By Joseph King\n",
      "      </p>\n",
      "     </div>\n",
      "     <p>\n",
      "      Public wind special new fine because. Seat explain vote method point. Source beautiful than drug family. Toward national either inside talk I national.\n",
      "Occur always guy through. Budget floor let several than speak. Recently unit four although perhaps store ok owner.\n",
      "     </p>\n",
      "    </div>\n",
      "   </div>\n",
      "   <div class=\"grid grid-cols-4 gap-x-4 border rounded pr-3 bg-green-50 hover:shadow-lg transition duration-500\">\n",
      "    <img src=\"/static/placeholder.png\"/>\n",
      "    <div class=\"col-span-3 space-y-3 py-3\">\n",
      "     <h2 class=\"text-2xl text-green-900\">\n",
      "      doctor color source\n",
      "     </h2>\n",
      "     <div class=\"grid grid-cols-2 italic\">\n",
      "      <p>\n",
      "       2012-04-13\n",
      "      </p>\n",
      "      <p class=\"text-right\">\n",
      "       By Stephanie Nichols\n",
      "      </p>\n",
      "     </div>\n",
      "     <p>\n",
      "      Interview keep other way. Bar side politics.\n",
      "Determine speak Mr young available newspaper. Realize stock half. Truth themselves inside space leg course leader tell.\n",
      "     </p>\n",
      "    </div>\n",
      "   </div>\n",
      "   <div class=\"grid grid-cols-4 gap-x-4 border rounded pr-3 bg-green-50 hover:shadow-lg transition duration-500\">\n",
      "    <img src=\"/static/placeholder.png\"/>\n",
      "    <div class=\"col-span-3 space-y-3 py-3\">\n",
      "     <h2 class=\"text-2xl text-green-900\">\n",
      "      college although receive\n",
      "     </h2>\n",
      "     <div class=\"grid grid-cols-2 italic\">\n",
      "      <p>\n",
      "       1987-10-02\n",
      "      </p>\n",
      "      <p class=\"text-right\">\n",
      "       By Priscilla Murphy MD\n",
      "      </p>\n",
      "     </div>\n",
      "     <p>\n",
      "      Available short hair. Real staff cell movement need lose coach.\n",
      "Model must hold someone consumer financial ok pretty. Happen it program suggest. Truth others occur he form partner machine play.\n",
      "     </p>\n",
      "    </div>\n",
      "   </div>\n",
      "   <div class=\"grid grid-cols-4 gap-x-4 border rounded pr-3 bg-green-50 hover:shadow-lg transition duration-500\">\n",
      "    <img src=\"/static/placeholder.png\"/>\n",
      "    <div class=\"col-span-3 space-y-3 py-3\">\n",
      "     <h2 class=\"text-2xl text-green-900\">\n",
      "      life particularly politics\n",
      "     </h2>\n",
      "     <div class=\"grid grid-cols-2 italic\">\n",
      "      <p>\n",
      "       1991-10-18\n",
      "      </p>\n",
      "      <p class=\"text-right\">\n",
      "       By Kyle Lewis\n",
      "      </p>\n",
      "     </div>\n",
      "     <p>\n",
      "      Tax computer defense six either west success sound. Realize probably stop final floor charge upon. Wish building test recognize.\n",
      "Want across bad southern. Street cold after off body source tree listen.\n",
      "     </p>\n",
      "    </div>\n",
      "   </div>\n",
      "   <div class=\"grid grid-cols-4 gap-x-4 border rounded pr-3 bg-green-50 hover:shadow-lg transition duration-500\">\n",
      "    <img src=\"/static/placeholder.png\"/>\n",
      "    <div class=\"col-span-3 space-y-3 py-3\">\n",
      "     <h2 class=\"text-2xl text-green-900\">\n",
      "      between modern wait\n",
      "     </h2>\n",
      "     <div class=\"grid grid-cols-2 italic\">\n",
      "      <p>\n",
      "       1996-12-19\n",
      "      </p>\n",
      "      <p class=\"text-right\">\n",
      "       By Anthony Mckee\n",
      "      </p>\n",
      "     </div>\n",
      "     <p>\n",
      "      Deal election piece similar arm experience.\n",
      "High fight look purpose with if down agency. Develop war price again sell whose.\n",
      "     </p>\n",
      "    </div>\n",
      "   </div>\n",
      "   <div class=\"grid grid-cols-4 gap-x-4 border rounded pr-3 bg-green-50 hover:shadow-lg transition duration-500\">\n",
      "    <img src=\"/static/placeholder.png\"/>\n",
      "    <div class=\"col-span-3 space-y-3 py-3\">\n",
      "     <h2 class=\"text-2xl text-green-900\">\n",
      "      man value general\n",
      "     </h2>\n",
      "     <div class=\"grid grid-cols-2 italic\">\n",
      "      <p>\n",
      "       2007-09-07\n",
      "      </p>\n",
      "      <p class=\"text-right\">\n",
      "       By Donna Nichols\n",
      "      </p>\n",
      "     </div>\n",
      "     <p>\n",
      "      Night generation admit could. Face individual themselves skin item summer. Bad offer capital how size product star baby. Good five environmental war base give now.\n",
      "Set lose hope want. Against seven pass evidence mention.\n",
      "     </p>\n",
      "    </div>\n",
      "   </div>\n",
      "   <div class=\"grid grid-cols-4 gap-x-4 border rounded pr-3 bg-green-50 hover:shadow-lg transition duration-500\">\n",
      "    <img src=\"/static/placeholder.png\"/>\n",
      "    <div class=\"col-span-3 space-y-3 py-3\">\n",
      "     <h2 class=\"text-2xl text-green-900\">\n",
      "      hope campaign small\n",
      "     </h2>\n",
      "     <div class=\"grid grid-cols-2 italic\">\n",
      "      <p>\n",
      "       1994-12-29\n",
      "      </p>\n",
      "      <p class=\"text-right\">\n",
      "       By Kevin Scott\n",
      "      </p>\n",
      "     </div>\n",
      "     <p>\n",
      "      Story let oil factor skill house. Represent quickly rock bring interesting member citizen. Anything black money.\n",
      "Feel identify father upon. Management I child property building. Easy cell sound positive.\n",
      "     </p>\n",
      "    </div>\n",
      "   </div>\n",
      "   <div class=\"grid grid-cols-4 gap-x-4 border rounded pr-3 bg-green-50 hover:shadow-lg transition duration-500\">\n",
      "    <img src=\"/static/placeholder.png\"/>\n",
      "    <div class=\"col-span-3 space-y-3 py-3\">\n",
      "     <h2 class=\"text-2xl text-green-900\">\n",
      "      professional follow soldier\n",
      "     </h2>\n",
      "     <div class=\"grid grid-cols-2 italic\">\n",
      "      <p>\n",
      "       1982-01-19\n",
      "      </p>\n",
      "      <p class=\"text-right\">\n",
      "       By Tracy Cox\n",
      "      </p>\n",
      "     </div>\n",
      "     <p>\n",
      "      Reflect member finally option. Walk how knowledge pretty what billion represent. Cup door phone away.\n",
      "How usually agent form story. Page north myself minute agency evening.\n",
      "     </p>\n",
      "    </div>\n",
      "   </div>\n",
      "   <div class=\"grid grid-cols-4 gap-x-4 border rounded pr-3 bg-green-50 hover:shadow-lg transition duration-500\">\n",
      "    <img src=\"/static/placeholder.png\"/>\n",
      "    <div class=\"col-span-3 space-y-3 py-3\">\n",
      "     <h2 class=\"text-2xl text-green-900\">\n",
      "      while range mission\n",
      "     </h2>\n",
      "     <div class=\"grid grid-cols-2 italic\">\n",
      "      <p>\n",
      "       2019-11-27\n",
      "      </p>\n",
      "      <p class=\"text-right\">\n",
      "       By Barbara Camacho\n",
      "      </p>\n",
      "     </div>\n",
      "     <p>\n",
      "      Risk say ago hand. Church front rate rate. Technology democratic record pick artist.\n",
      "Current single the face. Majority process past ask know bank job.\n",
      "     </p>\n",
      "    </div>\n",
      "   </div>\n",
      "   <div class=\"grid grid-cols-4 gap-x-4 border rounded pr-3 bg-green-50 hover:shadow-lg transition duration-500\">\n",
      "    <img src=\"/static/placeholder.png\"/>\n",
      "    <div class=\"col-span-3 space-y-3 py-3\">\n",
      "     <h2 class=\"text-2xl text-green-900\">\n",
      "      environment share also\n",
      "     </h2>\n",
      "     <div class=\"grid grid-cols-2 italic\">\n",
      "      <p>\n",
      "       2014-06-18\n",
      "      </p>\n",
      "      <p class=\"text-right\">\n",
      "       By Hannah Smith\n",
      "      </p>\n",
      "     </div>\n",
      "     <p>\n",
      "      Wind yard debate. Level next us short amount prevent.\n",
      "Language until already rule. Product enter project practice available I space. As whole by degree then board.\n",
      "     </p>\n",
      "    </div>\n",
      "   </div>\n",
      "   <div class=\"grid grid-cols-4 gap-x-4 border rounded pr-3 bg-green-50 hover:shadow-lg transition duration-500\">\n",
      "    <img src=\"/static/placeholder.png\"/>\n",
      "    <div class=\"col-span-3 space-y-3 py-3\">\n",
      "     <h2 class=\"text-2xl text-green-900\">\n",
      "      provide center buy\n",
      "     </h2>\n",
      "     <div class=\"grid grid-cols-2 italic\">\n",
      "      <p>\n",
      "       2015-05-12\n",
      "      </p>\n",
      "      <p class=\"text-right\">\n",
      "       By James Duncan\n",
      "      </p>\n",
      "     </div>\n",
      "     <p>\n",
      "      With how surface financial provide suggest. Gun trouble rest may. Image own action water. Sure game senior center together edge.\n",
      "Message region baby field. Represent begin note through travel. Behind once government citizen western many. Already ability able eye lay dark.\n",
      "     </p>\n",
      "    </div>\n",
      "   </div>\n",
      "  </div>\n",
      " </body>\n",
      "</html>\n"
     ]
    }
   ],
   "source": [
    "soup = BeautifulSoup(html)\n",
    "print(soup.prettify())"
   ]
  },
  {
   "cell_type": "markdown",
   "metadata": {},
   "source": [
    "From here we can switch between the browser and python and try out different ways of getting different parts of the html document.\n",
    "\n",
    "We can leverage Google Chrome's developer tools by right clicking and choosing \"Inspect\". We can then use this html document inspector to help us with our web scraping."
   ]
  },
  {
   "cell_type": "code",
   "execution_count": 4,
   "metadata": {},
   "outputs": [],
   "source": [
    "# Use beautifulsoup methods to extract necessary content from an article"
   ]
  },
  {
   "cell_type": "code",
   "execution_count": 5,
   "metadata": {},
   "outputs": [],
   "source": [
    "articles = soup.select('.grid-cols-4')\n",
    "# articles"
   ]
  },
  {
   "cell_type": "code",
   "execution_count": 6,
   "metadata": {},
   "outputs": [
    {
     "data": {
      "text/plain": [
       "<div class=\"grid grid-cols-4 gap-x-4 border rounded pr-3 bg-green-50 hover:shadow-lg transition duration-500\">\n",
       "<img src=\"/static/placeholder.png\"/>\n",
       "<div class=\"col-span-3 space-y-3 py-3\">\n",
       "<h2 class=\"text-2xl text-green-900\">throughout time quality</h2>\n",
       "<div class=\"grid grid-cols-2 italic\">\n",
       "<p> 1977-10-15 </p>\n",
       "<p class=\"text-right\">By Hannah Villarreal </p>\n",
       "</div>\n",
       "<p>Part entire challenge truth resource between fund fund. Government describe attention.\n",
       "Single religious green war identify. Sea mother fight hospital country water girl. Prevent no conference management attention.</p>\n",
       "</div>\n",
       "</div>"
      ]
     },
     "execution_count": 6,
     "metadata": {},
     "output_type": "execute_result"
    }
   ],
   "source": [
    "article = articles[0]\n",
    "article"
   ]
  },
  {
   "cell_type": "code",
   "execution_count": 7,
   "metadata": {},
   "outputs": [
    {
     "data": {
      "text/plain": [
       "'throughout time quality'"
      ]
     },
     "execution_count": 7,
     "metadata": {},
     "output_type": "execute_result"
    }
   ],
   "source": [
    "# soupmethod.tagname.text\n",
    "headline = article.h2.text\n",
    "headline"
   ]
  },
  {
   "cell_type": "code",
   "execution_count": 8,
   "metadata": {},
   "outputs": [
    {
     "data": {
      "text/plain": [
       "'1977-10-15'"
      ]
     },
     "execution_count": 8,
     "metadata": {},
     "output_type": "execute_result"
    }
   ],
   "source": [
    "# get the date\n",
    "# there was some white space that we stripped out\n",
    "date = article.p.text.strip()\n",
    "date"
   ]
  },
  {
   "cell_type": "code",
   "execution_count": 9,
   "metadata": {},
   "outputs": [
    {
     "data": {
      "text/plain": [
       "'Hannah Villarreal'"
      ]
     },
     "execution_count": 9,
     "metadata": {},
     "output_type": "execute_result"
    }
   ],
   "source": [
    "article.select('.text-right')[0].text.strip()[3:]"
   ]
  },
  {
   "cell_type": "code",
   "execution_count": 10,
   "metadata": {},
   "outputs": [
    {
     "data": {
      "text/plain": [
       "'Hannah Villarreal'"
      ]
     },
     "execution_count": 10,
     "metadata": {},
     "output_type": "execute_result"
    }
   ],
   "source": [
    "# the dot before text is a notation to use before selecting the class and is required\n",
    "author = article.select('.text-right')[0].text.strip()[3:]\n",
    "author"
   ]
  },
  {
   "cell_type": "code",
   "execution_count": 11,
   "metadata": {},
   "outputs": [
    {
     "data": {
      "text/plain": [
       "'Part entire challenge truth resource between fund fund. Government describe attention.\\nSingle religious green war identify. Sea mother fight hospital country water girl. Prevent no conference management attention.'"
      ]
     },
     "execution_count": 11,
     "metadata": {},
     "output_type": "execute_result"
    }
   ],
   "source": [
    "# getting the actual content\n",
    "content = article.select('p')[-1].text\n",
    "content"
   ]
  },
  {
   "cell_type": "markdown",
   "metadata": {},
   "source": [
    "Bringing it all together: Make a function"
   ]
  },
  {
   "cell_type": "code",
   "execution_count": 12,
   "metadata": {},
   "outputs": [],
   "source": [
    "def parse_news(article):\n",
    "    headline = article.h2.text\n",
    "    date = article.p.text.strip()\n",
    "    author = article.select('.text-right')[0].text.strip()[3:]\n",
    "    content = article.select('p')[-1].text\n",
    "    \n",
    "    return {\n",
    "        'headline': headline, 'date': date, 'author': author,\n",
    "        'content': content\n",
    "    }"
   ]
  },
  {
   "cell_type": "code",
   "execution_count": 13,
   "metadata": {},
   "outputs": [
    {
     "data": {
      "text/plain": [
       "{'headline': 'throughout time quality',\n",
       " 'date': '1977-10-15',\n",
       " 'author': 'Hannah Villarreal',\n",
       " 'content': 'Part entire challenge truth resource between fund fund. Government describe attention.\\nSingle religious green war identify. Sea mother fight hospital country water girl. Prevent no conference management attention.'}"
      ]
     },
     "execution_count": 13,
     "metadata": {},
     "output_type": "execute_result"
    }
   ],
   "source": [
    "\n",
    "parse_news(article)"
   ]
  },
  {
   "cell_type": "code",
   "execution_count": 14,
   "metadata": {
    "scrolled": true
   },
   "outputs": [],
   "source": [
    "# loop through all the articles\n",
    "# [parse_news(article) for article in articles]"
   ]
  },
  {
   "cell_type": "code",
   "execution_count": 15,
   "metadata": {},
   "outputs": [
    {
     "data": {
      "text/html": [
       "<div>\n",
       "<style scoped>\n",
       "    .dataframe tbody tr th:only-of-type {\n",
       "        vertical-align: middle;\n",
       "    }\n",
       "\n",
       "    .dataframe tbody tr th {\n",
       "        vertical-align: top;\n",
       "    }\n",
       "\n",
       "    .dataframe thead th {\n",
       "        text-align: right;\n",
       "    }\n",
       "</style>\n",
       "<table border=\"1\" class=\"dataframe\">\n",
       "  <thead>\n",
       "    <tr style=\"text-align: right;\">\n",
       "      <th></th>\n",
       "      <th>headline</th>\n",
       "      <th>date</th>\n",
       "      <th>author</th>\n",
       "      <th>content</th>\n",
       "    </tr>\n",
       "  </thead>\n",
       "  <tbody>\n",
       "    <tr>\n",
       "      <th>0</th>\n",
       "      <td>throughout time quality</td>\n",
       "      <td>1977-10-15</td>\n",
       "      <td>Hannah Villarreal</td>\n",
       "      <td>Part entire challenge truth resource between f...</td>\n",
       "    </tr>\n",
       "    <tr>\n",
       "      <th>1</th>\n",
       "      <td>among detail begin</td>\n",
       "      <td>1974-02-12</td>\n",
       "      <td>Joseph King</td>\n",
       "      <td>Public wind special new fine because. Seat exp...</td>\n",
       "    </tr>\n",
       "    <tr>\n",
       "      <th>2</th>\n",
       "      <td>doctor color source</td>\n",
       "      <td>2012-04-13</td>\n",
       "      <td>Stephanie Nichols</td>\n",
       "      <td>Interview keep other way. Bar side politics.\\n...</td>\n",
       "    </tr>\n",
       "    <tr>\n",
       "      <th>3</th>\n",
       "      <td>college although receive</td>\n",
       "      <td>1987-10-02</td>\n",
       "      <td>Priscilla Murphy MD</td>\n",
       "      <td>Available short hair. Real staff cell movement...</td>\n",
       "    </tr>\n",
       "    <tr>\n",
       "      <th>4</th>\n",
       "      <td>life particularly politics</td>\n",
       "      <td>1991-10-18</td>\n",
       "      <td>Kyle Lewis</td>\n",
       "      <td>Tax computer defense six either west success s...</td>\n",
       "    </tr>\n",
       "    <tr>\n",
       "      <th>5</th>\n",
       "      <td>between modern wait</td>\n",
       "      <td>1996-12-19</td>\n",
       "      <td>Anthony Mckee</td>\n",
       "      <td>Deal election piece similar arm experience.\\nH...</td>\n",
       "    </tr>\n",
       "    <tr>\n",
       "      <th>6</th>\n",
       "      <td>man value general</td>\n",
       "      <td>2007-09-07</td>\n",
       "      <td>Donna Nichols</td>\n",
       "      <td>Night generation admit could. Face individual ...</td>\n",
       "    </tr>\n",
       "    <tr>\n",
       "      <th>7</th>\n",
       "      <td>hope campaign small</td>\n",
       "      <td>1994-12-29</td>\n",
       "      <td>Kevin Scott</td>\n",
       "      <td>Story let oil factor skill house. Represent qu...</td>\n",
       "    </tr>\n",
       "    <tr>\n",
       "      <th>8</th>\n",
       "      <td>professional follow soldier</td>\n",
       "      <td>1982-01-19</td>\n",
       "      <td>Tracy Cox</td>\n",
       "      <td>Reflect member finally option. Walk how knowle...</td>\n",
       "    </tr>\n",
       "    <tr>\n",
       "      <th>9</th>\n",
       "      <td>while range mission</td>\n",
       "      <td>2019-11-27</td>\n",
       "      <td>Barbara Camacho</td>\n",
       "      <td>Risk say ago hand. Church front rate rate. Tec...</td>\n",
       "    </tr>\n",
       "    <tr>\n",
       "      <th>10</th>\n",
       "      <td>environment share also</td>\n",
       "      <td>2014-06-18</td>\n",
       "      <td>Hannah Smith</td>\n",
       "      <td>Wind yard debate. Level next us short amount p...</td>\n",
       "    </tr>\n",
       "    <tr>\n",
       "      <th>11</th>\n",
       "      <td>provide center buy</td>\n",
       "      <td>2015-05-12</td>\n",
       "      <td>James Duncan</td>\n",
       "      <td>With how surface financial provide suggest. Gu...</td>\n",
       "    </tr>\n",
       "  </tbody>\n",
       "</table>\n",
       "</div>"
      ],
      "text/plain": [
       "                       headline        date               author  \\\n",
       "0       throughout time quality  1977-10-15    Hannah Villarreal   \n",
       "1            among detail begin  1974-02-12          Joseph King   \n",
       "2           doctor color source  2012-04-13    Stephanie Nichols   \n",
       "3      college although receive  1987-10-02  Priscilla Murphy MD   \n",
       "4    life particularly politics  1991-10-18           Kyle Lewis   \n",
       "5           between modern wait  1996-12-19        Anthony Mckee   \n",
       "6             man value general  2007-09-07        Donna Nichols   \n",
       "7           hope campaign small  1994-12-29          Kevin Scott   \n",
       "8   professional follow soldier  1982-01-19            Tracy Cox   \n",
       "9           while range mission  2019-11-27      Barbara Camacho   \n",
       "10       environment share also  2014-06-18         Hannah Smith   \n",
       "11           provide center buy  2015-05-12         James Duncan   \n",
       "\n",
       "                                              content  \n",
       "0   Part entire challenge truth resource between f...  \n",
       "1   Public wind special new fine because. Seat exp...  \n",
       "2   Interview keep other way. Bar side politics.\\n...  \n",
       "3   Available short hair. Real staff cell movement...  \n",
       "4   Tax computer defense six either west success s...  \n",
       "5   Deal election piece similar arm experience.\\nH...  \n",
       "6   Night generation admit could. Face individual ...  \n",
       "7   Story let oil factor skill house. Represent qu...  \n",
       "8   Reflect member finally option. Walk how knowle...  \n",
       "9   Risk say ago hand. Church front rate rate. Tec...  \n",
       "10  Wind yard debate. Level next us short amount p...  \n",
       "11  With how surface financial provide suggest. Gu...  "
      ]
     },
     "execution_count": 15,
     "metadata": {},
     "output_type": "execute_result"
    }
   ],
   "source": [
    "# loop through all the articles\n",
    "pd.DataFrame([parse_news(article) for article in articles])"
   ]
  },
  {
   "cell_type": "markdown",
   "metadata": {},
   "source": [
    "## Scraping People"
   ]
  },
  {
   "cell_type": "code",
   "execution_count": 16,
   "metadata": {},
   "outputs": [],
   "source": [
    "response = requests.get('https://web-scraping-demo.zgulde.net/people', headers={'user-agent': 'Codeup DS Hoppper'})\n",
    "soup = BeautifulSoup(response.text)"
   ]
  },
  {
   "cell_type": "code",
   "execution_count": 17,
   "metadata": {},
   "outputs": [
    {
     "name": "stdout",
     "output_type": "stream",
     "text": [
      "<!DOCTYPE html>\n",
      "<html lang=\"en\">\n",
      " <head>\n",
      "  <meta charset=\"utf-8\"/>\n",
      "  <meta content=\"IE=edge\" http-equiv=\"X-UA-Compatible\"/>\n",
      "  <meta content=\"width=device-width, initial-scale=1.0\" name=\"viewport\"/>\n",
      "  <title>\n",
      "   Example People Page\n",
      "  </title>\n",
      "  <link href=\"https://unpkg.com/tailwindcss@^2/dist/tailwind.min.css\" rel=\"stylesheet\"/>\n",
      "  <link href=\"https://cdn.jsdelivr.net/npm/bootstrap-icons@1.4.1/font/bootstrap-icons.css\" rel=\"stylesheet\"/>\n",
      " </head>\n",
      " <body class=\"mx-auto max-w-screen-lg pb-32\">\n",
      "  <h1 class=\"my-5 text-4xl text-center\">\n",
      "   People\n",
      "  </h1>\n",
      "  <div class=\"my-5 text-red-800 px-5 py-3 bg-red-100 font-bold\">\n",
      "   <p>\n",
      "    <i class=\"bi bi-exclamation-circle text-xl\">\n",
      "    </i>\n",
      "    All data on this page is strictly for demonstration purposes and fake.\n",
      "   </p>\n",
      "  </div>\n",
      "  <div class=\"grid grid-cols-2 gap-x-12 gap-y-16\" id=\"people\">\n",
      "   <div class=\"person border rounded px-3 py-5 grid grid-cols-2 gap-x-3 bg-purple-50 hover:shadow-lg transition duration-500\">\n",
      "    <h2 class=\"text-2xl text-purple-800 name col-span-full border-b\">\n",
      "     Susan Nguyen\n",
      "    </h2>\n",
      "    <p class=\"quote col-span-full px-5 py-5 text-center text-gray-500\">\n",
      "     \"Visionary exuding moderator\"\n",
      "    </p>\n",
      "    <div class=\"grid grid-cols-9\">\n",
      "     <i class=\"bi bi-envelope-fill text-purple-800\">\n",
      "     </i>\n",
      "     <p class=\"email col-span-8\">\n",
      "      andrewmorgan@lane.com\n",
      "     </p>\n",
      "     <i class=\"bi bi-telephone-fill text-purple-800\">\n",
      "     </i>\n",
      "     <p class=\"phone col-span-8\">\n",
      "      925-794-3250\n",
      "     </p>\n",
      "    </div>\n",
      "    <div class=\"address grid grid-cols-9\">\n",
      "     <i class=\"bi bi-geo-fill text-purple-800\">\n",
      "     </i>\n",
      "     <p class=\"col-span-8\">\n",
      "      0043 Nathan Harbor\n",
      "      <br/>\n",
      "      Ashleystad, MN 16113\n",
      "     </p>\n",
      "    </div>\n",
      "   </div>\n",
      "   <div class=\"person border rounded px-3 py-5 grid grid-cols-2 gap-x-3 bg-purple-50 hover:shadow-lg transition duration-500\">\n",
      "    <h2 class=\"text-2xl text-purple-800 name col-span-full border-b\">\n",
      "     Derek Sanchez\n",
      "    </h2>\n",
      "    <p class=\"quote col-span-full px-5 py-5 text-center text-gray-500\">\n",
      "     \"Persevering systemic help-desk\"\n",
      "    </p>\n",
      "    <div class=\"grid grid-cols-9\">\n",
      "     <i class=\"bi bi-envelope-fill text-purple-800\">\n",
      "     </i>\n",
      "     <p class=\"email col-span-8\">\n",
      "      keith45@bridges.com\n",
      "     </p>\n",
      "     <i class=\"bi bi-telephone-fill text-purple-800\">\n",
      "     </i>\n",
      "     <p class=\"phone col-span-8\">\n",
      "      602-359-6575x83313\n",
      "     </p>\n",
      "    </div>\n",
      "    <div class=\"address grid grid-cols-9\">\n",
      "     <i class=\"bi bi-geo-fill text-purple-800\">\n",
      "     </i>\n",
      "     <p class=\"col-span-8\">\n",
      "      7343 Hardy Squares\n",
      "      <br/>\n",
      "      Gregoryburgh, VA 02125\n",
      "     </p>\n",
      "    </div>\n",
      "   </div>\n",
      "   <div class=\"person border rounded px-3 py-5 grid grid-cols-2 gap-x-3 bg-purple-50 hover:shadow-lg transition duration-500\">\n",
      "    <h2 class=\"text-2xl text-purple-800 name col-span-full border-b\">\n",
      "     James Mcclain\n",
      "    </h2>\n",
      "    <p class=\"quote col-span-full px-5 py-5 text-center text-gray-500\">\n",
      "     \"Advanced modular help-desk\"\n",
      "    </p>\n",
      "    <div class=\"grid grid-cols-9\">\n",
      "     <i class=\"bi bi-envelope-fill text-purple-800\">\n",
      "     </i>\n",
      "     <p class=\"email col-span-8\">\n",
      "      joan90@yahoo.com\n",
      "     </p>\n",
      "     <i class=\"bi bi-telephone-fill text-purple-800\">\n",
      "     </i>\n",
      "     <p class=\"phone col-span-8\">\n",
      "      (067)374-0403\n",
      "     </p>\n",
      "    </div>\n",
      "    <div class=\"address grid grid-cols-9\">\n",
      "     <i class=\"bi bi-geo-fill text-purple-800\">\n",
      "     </i>\n",
      "     <p class=\"col-span-8\">\n",
      "      52340 Medina Freeway\n",
      "      <br/>\n",
      "      Lake Rebekah, MI 32931\n",
      "     </p>\n",
      "    </div>\n",
      "   </div>\n",
      "   <div class=\"person border rounded px-3 py-5 grid grid-cols-2 gap-x-3 bg-purple-50 hover:shadow-lg transition duration-500\">\n",
      "    <h2 class=\"text-2xl text-purple-800 name col-span-full border-b\">\n",
      "     Jordan Figueroa\n",
      "    </h2>\n",
      "    <p class=\"quote col-span-full px-5 py-5 text-center text-gray-500\">\n",
      "     \"Expanded global standardization\"\n",
      "    </p>\n",
      "    <div class=\"grid grid-cols-9\">\n",
      "     <i class=\"bi bi-envelope-fill text-purple-800\">\n",
      "     </i>\n",
      "     <p class=\"email col-span-8\">\n",
      "      byrddanielle@singh.net\n",
      "     </p>\n",
      "     <i class=\"bi bi-telephone-fill text-purple-800\">\n",
      "     </i>\n",
      "     <p class=\"phone col-span-8\">\n",
      "      (476)704-0564x1646\n",
      "     </p>\n",
      "    </div>\n",
      "    <div class=\"address grid grid-cols-9\">\n",
      "     <i class=\"bi bi-geo-fill text-purple-800\">\n",
      "     </i>\n",
      "     <p class=\"col-span-8\">\n",
      "      254 Austin Hill Apt. 038\n",
      "      <br/>\n",
      "      East Andrew, OK 59826\n",
      "     </p>\n",
      "    </div>\n",
      "   </div>\n",
      "   <div class=\"person border rounded px-3 py-5 grid grid-cols-2 gap-x-3 bg-purple-50 hover:shadow-lg transition duration-500\">\n",
      "    <h2 class=\"text-2xl text-purple-800 name col-span-full border-b\">\n",
      "     Michael Nguyen\n",
      "    </h2>\n",
      "    <p class=\"quote col-span-full px-5 py-5 text-center text-gray-500\">\n",
      "     \"Visionary asymmetric function\"\n",
      "    </p>\n",
      "    <div class=\"grid grid-cols-9\">\n",
      "     <i class=\"bi bi-envelope-fill text-purple-800\">\n",
      "     </i>\n",
      "     <p class=\"email col-span-8\">\n",
      "      david51@williams.com\n",
      "     </p>\n",
      "     <i class=\"bi bi-telephone-fill text-purple-800\">\n",
      "     </i>\n",
      "     <p class=\"phone col-span-8\">\n",
      "      192-325-2459x49485\n",
      "     </p>\n",
      "    </div>\n",
      "    <div class=\"address grid grid-cols-9\">\n",
      "     <i class=\"bi bi-geo-fill text-purple-800\">\n",
      "     </i>\n",
      "     <p class=\"col-span-8\">\n",
      "      348 Alyssa Circle Suite 795\n",
      "      <br/>\n",
      "      Tiffanymouth, MT 01010\n",
      "     </p>\n",
      "    </div>\n",
      "   </div>\n",
      "   <div class=\"person border rounded px-3 py-5 grid grid-cols-2 gap-x-3 bg-purple-50 hover:shadow-lg transition duration-500\">\n",
      "    <h2 class=\"text-2xl text-purple-800 name col-span-full border-b\">\n",
      "     Teresa Harris\n",
      "    </h2>\n",
      "    <p class=\"quote col-span-full px-5 py-5 text-center text-gray-500\">\n",
      "     \"Monitored directional Graphic Interface\"\n",
      "    </p>\n",
      "    <div class=\"grid grid-cols-9\">\n",
      "     <i class=\"bi bi-envelope-fill text-purple-800\">\n",
      "     </i>\n",
      "     <p class=\"email col-span-8\">\n",
      "      jessica84@salazar.com\n",
      "     </p>\n",
      "     <i class=\"bi bi-telephone-fill text-purple-800\">\n",
      "     </i>\n",
      "     <p class=\"phone col-span-8\">\n",
      "      207.763.3744x80532\n",
      "     </p>\n",
      "    </div>\n",
      "    <div class=\"address grid grid-cols-9\">\n",
      "     <i class=\"bi bi-geo-fill text-purple-800\">\n",
      "     </i>\n",
      "     <p class=\"col-span-8\">\n",
      "      4221 Jon Way Apt. 694\n",
      "      <br/>\n",
      "      South Nicolemouth, GA 01140\n",
      "     </p>\n",
      "    </div>\n",
      "   </div>\n",
      "   <div class=\"person border rounded px-3 py-5 grid grid-cols-2 gap-x-3 bg-purple-50 hover:shadow-lg transition duration-500\">\n",
      "    <h2 class=\"text-2xl text-purple-800 name col-span-full border-b\">\n",
      "     Kathy Fitzpatrick\n",
      "    </h2>\n",
      "    <p class=\"quote col-span-full px-5 py-5 text-center text-gray-500\">\n",
      "     \"Front-line secondary protocol\"\n",
      "    </p>\n",
      "    <div class=\"grid grid-cols-9\">\n",
      "     <i class=\"bi bi-envelope-fill text-purple-800\">\n",
      "     </i>\n",
      "     <p class=\"email col-span-8\">\n",
      "      smiththeresa@hotmail.com\n",
      "     </p>\n",
      "     <i class=\"bi bi-telephone-fill text-purple-800\">\n",
      "     </i>\n",
      "     <p class=\"phone col-span-8\">\n",
      "      001-836-731-9340\n",
      "     </p>\n",
      "    </div>\n",
      "    <div class=\"address grid grid-cols-9\">\n",
      "     <i class=\"bi bi-geo-fill text-purple-800\">\n",
      "     </i>\n",
      "     <p class=\"col-span-8\">\n",
      "      0291 Veronica Center\n",
      "      <br/>\n",
      "      West Rodneyborough, IL 73663\n",
      "     </p>\n",
      "    </div>\n",
      "   </div>\n",
      "   <div class=\"person border rounded px-3 py-5 grid grid-cols-2 gap-x-3 bg-purple-50 hover:shadow-lg transition duration-500\">\n",
      "    <h2 class=\"text-2xl text-purple-800 name col-span-full border-b\">\n",
      "     Kelly Porter\n",
      "    </h2>\n",
      "    <p class=\"quote col-span-full px-5 py-5 text-center text-gray-500\">\n",
      "     \"Fundamental holistic success\"\n",
      "    </p>\n",
      "    <div class=\"grid grid-cols-9\">\n",
      "     <i class=\"bi bi-envelope-fill text-purple-800\">\n",
      "     </i>\n",
      "     <p class=\"email col-span-8\">\n",
      "      lisa52@yahoo.com\n",
      "     </p>\n",
      "     <i class=\"bi bi-telephone-fill text-purple-800\">\n",
      "     </i>\n",
      "     <p class=\"phone col-span-8\">\n",
      "      824.721.7467x312\n",
      "     </p>\n",
      "    </div>\n",
      "    <div class=\"address grid grid-cols-9\">\n",
      "     <i class=\"bi bi-geo-fill text-purple-800\">\n",
      "     </i>\n",
      "     <p class=\"col-span-8\">\n",
      "      83746 Larson Loaf\n",
      "      <br/>\n",
      "      Lake William, IL 93169\n",
      "     </p>\n",
      "    </div>\n",
      "   </div>\n",
      "   <div class=\"person border rounded px-3 py-5 grid grid-cols-2 gap-x-3 bg-purple-50 hover:shadow-lg transition duration-500\">\n",
      "    <h2 class=\"text-2xl text-purple-800 name col-span-full border-b\">\n",
      "     Jason Walker\n",
      "    </h2>\n",
      "    <p class=\"quote col-span-full px-5 py-5 text-center text-gray-500\">\n",
      "     \"Stand-alone global strategy\"\n",
      "    </p>\n",
      "    <div class=\"grid grid-cols-9\">\n",
      "     <i class=\"bi bi-envelope-fill text-purple-800\">\n",
      "     </i>\n",
      "     <p class=\"email col-span-8\">\n",
      "      shannonarnold@gmail.com\n",
      "     </p>\n",
      "     <i class=\"bi bi-telephone-fill text-purple-800\">\n",
      "     </i>\n",
      "     <p class=\"phone col-span-8\">\n",
      "      (410)194-2225x476\n",
      "     </p>\n",
      "    </div>\n",
      "    <div class=\"address grid grid-cols-9\">\n",
      "     <i class=\"bi bi-geo-fill text-purple-800\">\n",
      "     </i>\n",
      "     <p class=\"col-span-8\">\n",
      "      32541 Maddox Valley Apt. 270\n",
      "      <br/>\n",
      "      Port Billyton, WA 01760\n",
      "     </p>\n",
      "    </div>\n",
      "   </div>\n",
      "   <div class=\"person border rounded px-3 py-5 grid grid-cols-2 gap-x-3 bg-purple-50 hover:shadow-lg transition duration-500\">\n",
      "    <h2 class=\"text-2xl text-purple-800 name col-span-full border-b\">\n",
      "     Adrienne Glenn\n",
      "    </h2>\n",
      "    <p class=\"quote col-span-full px-5 py-5 text-center text-gray-500\">\n",
      "     \"Configurable cohesive framework\"\n",
      "    </p>\n",
      "    <div class=\"grid grid-cols-9\">\n",
      "     <i class=\"bi bi-envelope-fill text-purple-800\">\n",
      "     </i>\n",
      "     <p class=\"email col-span-8\">\n",
      "      brownrobert@woodward.com\n",
      "     </p>\n",
      "     <i class=\"bi bi-telephone-fill text-purple-800\">\n",
      "     </i>\n",
      "     <p class=\"phone col-span-8\">\n",
      "      923-063-3537\n",
      "     </p>\n",
      "    </div>\n",
      "    <div class=\"address grid grid-cols-9\">\n",
      "     <i class=\"bi bi-geo-fill text-purple-800\">\n",
      "     </i>\n",
      "     <p class=\"col-span-8\">\n",
      "      642 Kylie Dam Suite 150\n",
      "      <br/>\n",
      "      Hooperside, ME 29406\n",
      "     </p>\n",
      "    </div>\n",
      "   </div>\n",
      "  </div>\n",
      " </body>\n",
      "</html>\n"
     ]
    }
   ],
   "source": [
    "print(soup.prettify())"
   ]
  },
  {
   "cell_type": "code",
   "execution_count": 18,
   "metadata": {},
   "outputs": [
    {
     "data": {
      "text/plain": [
       "[<div class=\"person border rounded px-3 py-5 grid grid-cols-2 gap-x-3 bg-purple-50 hover:shadow-lg transition duration-500\">\n",
       " <h2 class=\"text-2xl text-purple-800 name col-span-full border-b\">Susan Nguyen</h2>\n",
       " <p class=\"quote col-span-full px-5 py-5 text-center text-gray-500\">\n",
       "             \"Visionary exuding moderator\"\n",
       "         </p>\n",
       " <div class=\"grid grid-cols-9\">\n",
       " <i class=\"bi bi-envelope-fill text-purple-800\"></i>\n",
       " <p class=\"email col-span-8\">andrewmorgan@lane.com</p>\n",
       " <i class=\"bi bi-telephone-fill text-purple-800\"></i>\n",
       " <p class=\"phone col-span-8\">925-794-3250</p>\n",
       " </div>\n",
       " <div class=\"address grid grid-cols-9\">\n",
       " <i class=\"bi bi-geo-fill text-purple-800\"></i>\n",
       " <p class=\"col-span-8\">\n",
       "                 0043 Nathan Harbor <br/>\n",
       "                 Ashleystad, MN 16113\n",
       "             </p>\n",
       " </div>\n",
       " </div>,\n",
       " <div class=\"person border rounded px-3 py-5 grid grid-cols-2 gap-x-3 bg-purple-50 hover:shadow-lg transition duration-500\">\n",
       " <h2 class=\"text-2xl text-purple-800 name col-span-full border-b\">Derek Sanchez</h2>\n",
       " <p class=\"quote col-span-full px-5 py-5 text-center text-gray-500\">\n",
       "             \"Persevering systemic help-desk\"\n",
       "         </p>\n",
       " <div class=\"grid grid-cols-9\">\n",
       " <i class=\"bi bi-envelope-fill text-purple-800\"></i>\n",
       " <p class=\"email col-span-8\">keith45@bridges.com</p>\n",
       " <i class=\"bi bi-telephone-fill text-purple-800\"></i>\n",
       " <p class=\"phone col-span-8\">602-359-6575x83313</p>\n",
       " </div>\n",
       " <div class=\"address grid grid-cols-9\">\n",
       " <i class=\"bi bi-geo-fill text-purple-800\"></i>\n",
       " <p class=\"col-span-8\">\n",
       "                 7343 Hardy Squares <br/>\n",
       "                 Gregoryburgh, VA 02125\n",
       "             </p>\n",
       " </div>\n",
       " </div>,\n",
       " <div class=\"person border rounded px-3 py-5 grid grid-cols-2 gap-x-3 bg-purple-50 hover:shadow-lg transition duration-500\">\n",
       " <h2 class=\"text-2xl text-purple-800 name col-span-full border-b\">James Mcclain</h2>\n",
       " <p class=\"quote col-span-full px-5 py-5 text-center text-gray-500\">\n",
       "             \"Advanced modular help-desk\"\n",
       "         </p>\n",
       " <div class=\"grid grid-cols-9\">\n",
       " <i class=\"bi bi-envelope-fill text-purple-800\"></i>\n",
       " <p class=\"email col-span-8\">joan90@yahoo.com</p>\n",
       " <i class=\"bi bi-telephone-fill text-purple-800\"></i>\n",
       " <p class=\"phone col-span-8\">(067)374-0403</p>\n",
       " </div>\n",
       " <div class=\"address grid grid-cols-9\">\n",
       " <i class=\"bi bi-geo-fill text-purple-800\"></i>\n",
       " <p class=\"col-span-8\">\n",
       "                 52340 Medina Freeway <br/>\n",
       "                 Lake Rebekah, MI 32931\n",
       "             </p>\n",
       " </div>\n",
       " </div>,\n",
       " <div class=\"person border rounded px-3 py-5 grid grid-cols-2 gap-x-3 bg-purple-50 hover:shadow-lg transition duration-500\">\n",
       " <h2 class=\"text-2xl text-purple-800 name col-span-full border-b\">Jordan Figueroa</h2>\n",
       " <p class=\"quote col-span-full px-5 py-5 text-center text-gray-500\">\n",
       "             \"Expanded global standardization\"\n",
       "         </p>\n",
       " <div class=\"grid grid-cols-9\">\n",
       " <i class=\"bi bi-envelope-fill text-purple-800\"></i>\n",
       " <p class=\"email col-span-8\">byrddanielle@singh.net</p>\n",
       " <i class=\"bi bi-telephone-fill text-purple-800\"></i>\n",
       " <p class=\"phone col-span-8\">(476)704-0564x1646</p>\n",
       " </div>\n",
       " <div class=\"address grid grid-cols-9\">\n",
       " <i class=\"bi bi-geo-fill text-purple-800\"></i>\n",
       " <p class=\"col-span-8\">\n",
       "                 254 Austin Hill Apt. 038 <br/>\n",
       "                 East Andrew, OK 59826\n",
       "             </p>\n",
       " </div>\n",
       " </div>,\n",
       " <div class=\"person border rounded px-3 py-5 grid grid-cols-2 gap-x-3 bg-purple-50 hover:shadow-lg transition duration-500\">\n",
       " <h2 class=\"text-2xl text-purple-800 name col-span-full border-b\">Michael Nguyen</h2>\n",
       " <p class=\"quote col-span-full px-5 py-5 text-center text-gray-500\">\n",
       "             \"Visionary asymmetric function\"\n",
       "         </p>\n",
       " <div class=\"grid grid-cols-9\">\n",
       " <i class=\"bi bi-envelope-fill text-purple-800\"></i>\n",
       " <p class=\"email col-span-8\">david51@williams.com</p>\n",
       " <i class=\"bi bi-telephone-fill text-purple-800\"></i>\n",
       " <p class=\"phone col-span-8\">192-325-2459x49485</p>\n",
       " </div>\n",
       " <div class=\"address grid grid-cols-9\">\n",
       " <i class=\"bi bi-geo-fill text-purple-800\"></i>\n",
       " <p class=\"col-span-8\">\n",
       "                 348 Alyssa Circle Suite 795 <br/>\n",
       "                 Tiffanymouth, MT 01010\n",
       "             </p>\n",
       " </div>\n",
       " </div>,\n",
       " <div class=\"person border rounded px-3 py-5 grid grid-cols-2 gap-x-3 bg-purple-50 hover:shadow-lg transition duration-500\">\n",
       " <h2 class=\"text-2xl text-purple-800 name col-span-full border-b\">Teresa Harris</h2>\n",
       " <p class=\"quote col-span-full px-5 py-5 text-center text-gray-500\">\n",
       "             \"Monitored directional Graphic Interface\"\n",
       "         </p>\n",
       " <div class=\"grid grid-cols-9\">\n",
       " <i class=\"bi bi-envelope-fill text-purple-800\"></i>\n",
       " <p class=\"email col-span-8\">jessica84@salazar.com</p>\n",
       " <i class=\"bi bi-telephone-fill text-purple-800\"></i>\n",
       " <p class=\"phone col-span-8\">207.763.3744x80532</p>\n",
       " </div>\n",
       " <div class=\"address grid grid-cols-9\">\n",
       " <i class=\"bi bi-geo-fill text-purple-800\"></i>\n",
       " <p class=\"col-span-8\">\n",
       "                 4221 Jon Way Apt. 694 <br/>\n",
       "                 South Nicolemouth, GA 01140\n",
       "             </p>\n",
       " </div>\n",
       " </div>,\n",
       " <div class=\"person border rounded px-3 py-5 grid grid-cols-2 gap-x-3 bg-purple-50 hover:shadow-lg transition duration-500\">\n",
       " <h2 class=\"text-2xl text-purple-800 name col-span-full border-b\">Kathy Fitzpatrick</h2>\n",
       " <p class=\"quote col-span-full px-5 py-5 text-center text-gray-500\">\n",
       "             \"Front-line secondary protocol\"\n",
       "         </p>\n",
       " <div class=\"grid grid-cols-9\">\n",
       " <i class=\"bi bi-envelope-fill text-purple-800\"></i>\n",
       " <p class=\"email col-span-8\">smiththeresa@hotmail.com</p>\n",
       " <i class=\"bi bi-telephone-fill text-purple-800\"></i>\n",
       " <p class=\"phone col-span-8\">001-836-731-9340</p>\n",
       " </div>\n",
       " <div class=\"address grid grid-cols-9\">\n",
       " <i class=\"bi bi-geo-fill text-purple-800\"></i>\n",
       " <p class=\"col-span-8\">\n",
       "                 0291 Veronica Center <br/>\n",
       "                 West Rodneyborough, IL 73663\n",
       "             </p>\n",
       " </div>\n",
       " </div>,\n",
       " <div class=\"person border rounded px-3 py-5 grid grid-cols-2 gap-x-3 bg-purple-50 hover:shadow-lg transition duration-500\">\n",
       " <h2 class=\"text-2xl text-purple-800 name col-span-full border-b\">Kelly Porter</h2>\n",
       " <p class=\"quote col-span-full px-5 py-5 text-center text-gray-500\">\n",
       "             \"Fundamental holistic success\"\n",
       "         </p>\n",
       " <div class=\"grid grid-cols-9\">\n",
       " <i class=\"bi bi-envelope-fill text-purple-800\"></i>\n",
       " <p class=\"email col-span-8\">lisa52@yahoo.com</p>\n",
       " <i class=\"bi bi-telephone-fill text-purple-800\"></i>\n",
       " <p class=\"phone col-span-8\">824.721.7467x312</p>\n",
       " </div>\n",
       " <div class=\"address grid grid-cols-9\">\n",
       " <i class=\"bi bi-geo-fill text-purple-800\"></i>\n",
       " <p class=\"col-span-8\">\n",
       "                 83746 Larson Loaf <br/>\n",
       "                 Lake William, IL 93169\n",
       "             </p>\n",
       " </div>\n",
       " </div>,\n",
       " <div class=\"person border rounded px-3 py-5 grid grid-cols-2 gap-x-3 bg-purple-50 hover:shadow-lg transition duration-500\">\n",
       " <h2 class=\"text-2xl text-purple-800 name col-span-full border-b\">Jason Walker</h2>\n",
       " <p class=\"quote col-span-full px-5 py-5 text-center text-gray-500\">\n",
       "             \"Stand-alone global strategy\"\n",
       "         </p>\n",
       " <div class=\"grid grid-cols-9\">\n",
       " <i class=\"bi bi-envelope-fill text-purple-800\"></i>\n",
       " <p class=\"email col-span-8\">shannonarnold@gmail.com</p>\n",
       " <i class=\"bi bi-telephone-fill text-purple-800\"></i>\n",
       " <p class=\"phone col-span-8\">(410)194-2225x476</p>\n",
       " </div>\n",
       " <div class=\"address grid grid-cols-9\">\n",
       " <i class=\"bi bi-geo-fill text-purple-800\"></i>\n",
       " <p class=\"col-span-8\">\n",
       "                 32541 Maddox Valley Apt. 270 <br/>\n",
       "                 Port Billyton, WA 01760\n",
       "             </p>\n",
       " </div>\n",
       " </div>,\n",
       " <div class=\"person border rounded px-3 py-5 grid grid-cols-2 gap-x-3 bg-purple-50 hover:shadow-lg transition duration-500\">\n",
       " <h2 class=\"text-2xl text-purple-800 name col-span-full border-b\">Adrienne Glenn</h2>\n",
       " <p class=\"quote col-span-full px-5 py-5 text-center text-gray-500\">\n",
       "             \"Configurable cohesive framework\"\n",
       "         </p>\n",
       " <div class=\"grid grid-cols-9\">\n",
       " <i class=\"bi bi-envelope-fill text-purple-800\"></i>\n",
       " <p class=\"email col-span-8\">brownrobert@woodward.com</p>\n",
       " <i class=\"bi bi-telephone-fill text-purple-800\"></i>\n",
       " <p class=\"phone col-span-8\">923-063-3537</p>\n",
       " </div>\n",
       " <div class=\"address grid grid-cols-9\">\n",
       " <i class=\"bi bi-geo-fill text-purple-800\"></i>\n",
       " <p class=\"col-span-8\">\n",
       "                 642 Kylie Dam Suite 150 <br/>\n",
       "                 Hooperside, ME 29406\n",
       "             </p>\n",
       " </div>\n",
       " </div>]"
      ]
     },
     "execution_count": 18,
     "metadata": {},
     "output_type": "execute_result"
    }
   ],
   "source": [
    "cards = soup.select(\".person\")\n",
    "cards"
   ]
  },
  {
   "cell_type": "code",
   "execution_count": 19,
   "metadata": {},
   "outputs": [
    {
     "data": {
      "text/plain": [
       "<div class=\"person border rounded px-3 py-5 grid grid-cols-2 gap-x-3 bg-purple-50 hover:shadow-lg transition duration-500\">\n",
       "<h2 class=\"text-2xl text-purple-800 name col-span-full border-b\">Susan Nguyen</h2>\n",
       "<p class=\"quote col-span-full px-5 py-5 text-center text-gray-500\">\n",
       "            \"Visionary exuding moderator\"\n",
       "        </p>\n",
       "<div class=\"grid grid-cols-9\">\n",
       "<i class=\"bi bi-envelope-fill text-purple-800\"></i>\n",
       "<p class=\"email col-span-8\">andrewmorgan@lane.com</p>\n",
       "<i class=\"bi bi-telephone-fill text-purple-800\"></i>\n",
       "<p class=\"phone col-span-8\">925-794-3250</p>\n",
       "</div>\n",
       "<div class=\"address grid grid-cols-9\">\n",
       "<i class=\"bi bi-geo-fill text-purple-800\"></i>\n",
       "<p class=\"col-span-8\">\n",
       "                0043 Nathan Harbor <br/>\n",
       "                Ashleystad, MN 16113\n",
       "            </p>\n",
       "</div>\n",
       "</div>"
      ]
     },
     "execution_count": 19,
     "metadata": {},
     "output_type": "execute_result"
    }
   ],
   "source": [
    "card = cards[0]\n",
    "card"
   ]
  },
  {
   "cell_type": "code",
   "execution_count": 20,
   "metadata": {},
   "outputs": [
    {
     "data": {
      "text/plain": [
       "'Susan Nguyen'"
      ]
     },
     "execution_count": 20,
     "metadata": {},
     "output_type": "execute_result"
    }
   ],
   "source": [
    "name = card.h2.text\n",
    "name"
   ]
  },
  {
   "cell_type": "code",
   "execution_count": 21,
   "metadata": {},
   "outputs": [
    {
     "data": {
      "text/plain": [
       "'\"Visionary exuding moderator\"'"
      ]
     },
     "execution_count": 21,
     "metadata": {},
     "output_type": "execute_result"
    }
   ],
   "source": [
    "quote = card.p.text.strip()\n",
    "quote"
   ]
  },
  {
   "cell_type": "code",
   "execution_count": 22,
   "metadata": {},
   "outputs": [
    {
     "data": {
      "text/plain": [
       "'andrewmorgan@lane.com'"
      ]
     },
     "execution_count": 22,
     "metadata": {},
     "output_type": "execute_result"
    }
   ],
   "source": [
    "email = card.find_all('p')[1].text\n",
    "email"
   ]
  },
  {
   "cell_type": "code",
   "execution_count": 23,
   "metadata": {},
   "outputs": [
    {
     "data": {
      "text/plain": [
       "'925-794-3250'"
      ]
     },
     "execution_count": 23,
     "metadata": {},
     "output_type": "execute_result"
    }
   ],
   "source": [
    "phone = card.find_all('p')[2].text\n",
    "phone"
   ]
  },
  {
   "cell_type": "code",
   "execution_count": 24,
   "metadata": {},
   "outputs": [],
   "source": [
    "# address = card.find_all('p')[3].text.strip()\n",
    "# address"
   ]
  },
  {
   "cell_type": "code",
   "execution_count": 25,
   "metadata": {},
   "outputs": [
    {
     "data": {
      "text/plain": [
       "'0043 Nathan HarborAshleystad, MN 16113'"
      ]
     },
     "execution_count": 25,
     "metadata": {},
     "output_type": "execute_result"
    }
   ],
   "source": [
    "import re\n",
    "address = card.find_all('p')[3].text.strip()\n",
    "address = re.sub(r\"\\s{2,}\", \"\", address)\n",
    "\n",
    "address"
   ]
  },
  {
   "cell_type": "code",
   "execution_count": 26,
   "metadata": {},
   "outputs": [
    {
     "data": {
      "text/plain": [
       "[<p class=\"quote col-span-full px-5 py-5 text-center text-gray-500\">\n",
       "             \"Visionary exuding moderator\"\n",
       "         </p>,\n",
       " <p class=\"email col-span-8\">andrewmorgan@lane.com</p>,\n",
       " <p class=\"phone col-span-8\">925-794-3250</p>,\n",
       " <p class=\"col-span-8\">\n",
       "                 0043 Nathan Harbor <br/>\n",
       "                 Ashleystad, MN 16113\n",
       "             </p>]"
      ]
     },
     "execution_count": 26,
     "metadata": {},
     "output_type": "execute_result"
    }
   ],
   "source": [
    "card.find_all('p')"
   ]
  },
  {
   "cell_type": "code",
   "execution_count": 27,
   "metadata": {},
   "outputs": [],
   "source": [
    "def parse_person(card):\n",
    "    name = card.h2.text\n",
    "    quote = card.p.text.strip()\n",
    "    email = card.find_all('p')[1].text\n",
    "    phone = card.find_all('p')[2].text\n",
    "    address = card.find_all('p')[3].text.strip()\n",
    "    address = re.sub(r\"\\s{2,}\", \"\", address)\n",
    "    \n",
    "    return {\n",
    "        'name': name, 'quote': quote, 'email': email,\n",
    "        'phone': phone,\n",
    "        'address': address\n",
    "    }"
   ]
  },
  {
   "cell_type": "code",
   "execution_count": 28,
   "metadata": {},
   "outputs": [
    {
     "data": {
      "text/plain": [
       "{'name': 'Susan Nguyen',\n",
       " 'quote': '\"Visionary exuding moderator\"',\n",
       " 'email': 'andrewmorgan@lane.com',\n",
       " 'phone': '925-794-3250',\n",
       " 'address': '0043 Nathan HarborAshleystad, MN 16113'}"
      ]
     },
     "execution_count": 28,
     "metadata": {},
     "output_type": "execute_result"
    }
   ],
   "source": [
    "parse_person(card)"
   ]
  },
  {
   "cell_type": "code",
   "execution_count": 29,
   "metadata": {},
   "outputs": [
    {
     "data": {
      "text/html": [
       "<div>\n",
       "<style scoped>\n",
       "    .dataframe tbody tr th:only-of-type {\n",
       "        vertical-align: middle;\n",
       "    }\n",
       "\n",
       "    .dataframe tbody tr th {\n",
       "        vertical-align: top;\n",
       "    }\n",
       "\n",
       "    .dataframe thead th {\n",
       "        text-align: right;\n",
       "    }\n",
       "</style>\n",
       "<table border=\"1\" class=\"dataframe\">\n",
       "  <thead>\n",
       "    <tr style=\"text-align: right;\">\n",
       "      <th></th>\n",
       "      <th>name</th>\n",
       "      <th>quote</th>\n",
       "      <th>email</th>\n",
       "      <th>phone</th>\n",
       "      <th>address</th>\n",
       "    </tr>\n",
       "  </thead>\n",
       "  <tbody>\n",
       "    <tr>\n",
       "      <th>0</th>\n",
       "      <td>Susan Nguyen</td>\n",
       "      <td>\"Visionary exuding moderator\"</td>\n",
       "      <td>andrewmorgan@lane.com</td>\n",
       "      <td>925-794-3250</td>\n",
       "      <td>0043 Nathan HarborAshleystad, MN 16113</td>\n",
       "    </tr>\n",
       "    <tr>\n",
       "      <th>1</th>\n",
       "      <td>Derek Sanchez</td>\n",
       "      <td>\"Persevering systemic help-desk\"</td>\n",
       "      <td>keith45@bridges.com</td>\n",
       "      <td>602-359-6575x83313</td>\n",
       "      <td>7343 Hardy SquaresGregoryburgh, VA 02125</td>\n",
       "    </tr>\n",
       "    <tr>\n",
       "      <th>2</th>\n",
       "      <td>James Mcclain</td>\n",
       "      <td>\"Advanced modular help-desk\"</td>\n",
       "      <td>joan90@yahoo.com</td>\n",
       "      <td>(067)374-0403</td>\n",
       "      <td>52340 Medina FreewayLake Rebekah, MI 32931</td>\n",
       "    </tr>\n",
       "    <tr>\n",
       "      <th>3</th>\n",
       "      <td>Jordan Figueroa</td>\n",
       "      <td>\"Expanded global standardization\"</td>\n",
       "      <td>byrddanielle@singh.net</td>\n",
       "      <td>(476)704-0564x1646</td>\n",
       "      <td>254 Austin Hill Apt. 038East Andrew, OK 59826</td>\n",
       "    </tr>\n",
       "    <tr>\n",
       "      <th>4</th>\n",
       "      <td>Michael Nguyen</td>\n",
       "      <td>\"Visionary asymmetric function\"</td>\n",
       "      <td>david51@williams.com</td>\n",
       "      <td>192-325-2459x49485</td>\n",
       "      <td>348 Alyssa Circle Suite 795Tiffanymouth, MT 01010</td>\n",
       "    </tr>\n",
       "    <tr>\n",
       "      <th>5</th>\n",
       "      <td>Teresa Harris</td>\n",
       "      <td>\"Monitored directional Graphic Interface\"</td>\n",
       "      <td>jessica84@salazar.com</td>\n",
       "      <td>207.763.3744x80532</td>\n",
       "      <td>4221 Jon Way Apt. 694South Nicolemouth, GA 01140</td>\n",
       "    </tr>\n",
       "    <tr>\n",
       "      <th>6</th>\n",
       "      <td>Kathy Fitzpatrick</td>\n",
       "      <td>\"Front-line secondary protocol\"</td>\n",
       "      <td>smiththeresa@hotmail.com</td>\n",
       "      <td>001-836-731-9340</td>\n",
       "      <td>0291 Veronica CenterWest Rodneyborough, IL 73663</td>\n",
       "    </tr>\n",
       "    <tr>\n",
       "      <th>7</th>\n",
       "      <td>Kelly Porter</td>\n",
       "      <td>\"Fundamental holistic success\"</td>\n",
       "      <td>lisa52@yahoo.com</td>\n",
       "      <td>824.721.7467x312</td>\n",
       "      <td>83746 Larson LoafLake William, IL 93169</td>\n",
       "    </tr>\n",
       "    <tr>\n",
       "      <th>8</th>\n",
       "      <td>Jason Walker</td>\n",
       "      <td>\"Stand-alone global strategy\"</td>\n",
       "      <td>shannonarnold@gmail.com</td>\n",
       "      <td>(410)194-2225x476</td>\n",
       "      <td>32541 Maddox Valley Apt. 270Port Billyton, WA ...</td>\n",
       "    </tr>\n",
       "    <tr>\n",
       "      <th>9</th>\n",
       "      <td>Adrienne Glenn</td>\n",
       "      <td>\"Configurable cohesive framework\"</td>\n",
       "      <td>brownrobert@woodward.com</td>\n",
       "      <td>923-063-3537</td>\n",
       "      <td>642 Kylie Dam Suite 150Hooperside, ME 29406</td>\n",
       "    </tr>\n",
       "  </tbody>\n",
       "</table>\n",
       "</div>"
      ],
      "text/plain": [
       "                name                                      quote  \\\n",
       "0       Susan Nguyen              \"Visionary exuding moderator\"   \n",
       "1      Derek Sanchez           \"Persevering systemic help-desk\"   \n",
       "2      James Mcclain               \"Advanced modular help-desk\"   \n",
       "3    Jordan Figueroa          \"Expanded global standardization\"   \n",
       "4     Michael Nguyen            \"Visionary asymmetric function\"   \n",
       "5      Teresa Harris  \"Monitored directional Graphic Interface\"   \n",
       "6  Kathy Fitzpatrick            \"Front-line secondary protocol\"   \n",
       "7       Kelly Porter             \"Fundamental holistic success\"   \n",
       "8       Jason Walker              \"Stand-alone global strategy\"   \n",
       "9     Adrienne Glenn          \"Configurable cohesive framework\"   \n",
       "\n",
       "                      email               phone  \\\n",
       "0     andrewmorgan@lane.com        925-794-3250   \n",
       "1       keith45@bridges.com  602-359-6575x83313   \n",
       "2          joan90@yahoo.com       (067)374-0403   \n",
       "3    byrddanielle@singh.net  (476)704-0564x1646   \n",
       "4      david51@williams.com  192-325-2459x49485   \n",
       "5     jessica84@salazar.com  207.763.3744x80532   \n",
       "6  smiththeresa@hotmail.com    001-836-731-9340   \n",
       "7          lisa52@yahoo.com    824.721.7467x312   \n",
       "8   shannonarnold@gmail.com   (410)194-2225x476   \n",
       "9  brownrobert@woodward.com        923-063-3537   \n",
       "\n",
       "                                             address  \n",
       "0             0043 Nathan HarborAshleystad, MN 16113  \n",
       "1           7343 Hardy SquaresGregoryburgh, VA 02125  \n",
       "2         52340 Medina FreewayLake Rebekah, MI 32931  \n",
       "3      254 Austin Hill Apt. 038East Andrew, OK 59826  \n",
       "4  348 Alyssa Circle Suite 795Tiffanymouth, MT 01010  \n",
       "5   4221 Jon Way Apt. 694South Nicolemouth, GA 01140  \n",
       "6   0291 Veronica CenterWest Rodneyborough, IL 73663  \n",
       "7            83746 Larson LoafLake William, IL 93169  \n",
       "8  32541 Maddox Valley Apt. 270Port Billyton, WA ...  \n",
       "9        642 Kylie Dam Suite 150Hooperside, ME 29406  "
      ]
     },
     "execution_count": 29,
     "metadata": {},
     "output_type": "execute_result"
    }
   ],
   "source": [
    "# loop through all the persons\n",
    "pd.DataFrame([parse_person(card) for card in cards])"
   ]
  },
  {
   "cell_type": "markdown",
   "metadata": {},
   "source": [
    "## Web Scraping Etiquitte\n",
    "\n",
    "- respect the `robots.txt` file if present\n",
    "\n",
    "    * [Wikipedia: Robots exclusion standard](https://en.wikipedia.org/wiki/Robots_exclusion_standard)\n",
    "    * [robotstxt.org](http://www.robotstxt.org/robotstxt.html)\n",
    "    * [codeup's robots.txt](https://codeup.com/robots.txt)\n",
    "\n",
    "- use a descriptive user agent\n",
    "\n",
    "    ```python\n",
    "    requests.get('http://example.com', headers={'user-agent': 'codeup data science germain cohort'})\n",
    "    ```"
   ]
  },
  {
   "cell_type": "markdown",
   "metadata": {},
   "source": [
    "## Exercises\n",
    "\n",
    "#### Codeup Blog Articles\n",
    "\n",
    "Visit Codeup's Blog(http://codeup.com/blog/) and record the urls for at least 5 distinct blog posts. For each post, you should scrape at least the post's title and content.\n",
    "\n",
    "Encapsulate your work in a function named get_blog_articles that will return a list of dictionaries, with each dictionary representing one article. The shape of each dictionary should look like this:"
   ]
  },
  {
   "cell_type": "code",
   "execution_count": 30,
   "metadata": {},
   "outputs": [],
   "source": [
    "response = requests.get('https://codeup.com/blog/', headers={'user-agent': 'Codeup DS Hopper'})\n",
    "soup = BeautifulSoup(response.text)"
   ]
  },
  {
   "cell_type": "code",
   "execution_count": 31,
   "metadata": {},
   "outputs": [],
   "source": [
    "# print(codeup.prettify)"
   ]
  },
  {
   "cell_type": "code",
   "execution_count": 32,
   "metadata": {},
   "outputs": [],
   "source": [
    "# <h2 class=\"entry-title\"><a href=\"https://codeup.com/codeup-news/codeup-start-dates-for-march-2022/\">Codeup Start Dates for March 2022</a></h2>"
   ]
  },
  {
   "cell_type": "code",
   "execution_count": 33,
   "metadata": {},
   "outputs": [
    {
     "data": {
      "text/plain": [
       "[<h2 class=\"entry-title\"><a href=\"https://codeup.com/codeup-news/codeup-start-dates-for-march-2022/\">Codeup Start Dates for March 2022</a></h2>,\n",
       " <h2 class=\"entry-title\"><a href=\"https://codeup.com/codeup-news/vet-tec-funding-dallas/\">VET TEC Funding Now Available For Dallas Veterans</a></h2>,\n",
       " <h2 class=\"entry-title\"><a href=\"https://codeup.com/codeup-news/dallas-campus-re-opens-with-new-grant-partner/\">Dallas Campus Re-opens With New Grant Partner</a></h2>,\n",
       " <h2 class=\"entry-title\"><a href=\"https://codeup.com/dallas-newsletter/codeup-dallas-open-house/\">Codeup Dallas Open House</a></h2>,\n",
       " <h2 class=\"entry-title\"><a href=\"https://codeup.com/codeup-news/codeups-placement-team-continues-setting-records/\">Codeup’s Placement Team Continues Setting Records</a></h2>,\n",
       " <h2 class=\"entry-title\"><a href=\"https://codeup.com/it-training/it-certifications-101/\">IT Certifications 101: Why They Matter, and Why They Don’t</a></h2>,\n",
       " <h2 class=\"entry-title\"><a href=\"https://codeup.com/cybersecurity/a-rise-in-cyber-attacks-means-opportunities-for-veterans-in-san-antonio/\">A rise in cyber attacks means opportunities for veterans in San Antonio</a></h2>,\n",
       " <h2 class=\"entry-title\"><a href=\"https://codeup.com/codeup-news/use-your-gi-bill-benefits-to-land-a-job-in-tech/\">Use your GI Bill® benefits to Land a Job in Tech</a></h2>,\n",
       " <h2 class=\"entry-title\"><a href=\"https://codeup.com/tips-for-prospective-students/which-program-is-right-for-me-cyber-security-or-systems-engineering/\">Which program is right for me: Cyber Security or Systems Engineering?</a></h2>,\n",
       " <h2 class=\"entry-title\"><a href=\"https://codeup.com/it-training/what-the-heck-is-system-engineering/\">What the Heck is System Engineering?</a></h2>,\n",
       " <h2 class=\"entry-title\"><a href=\"https://codeup.com/alumni-stories/from-speech-pathology-to-business-intelligence/\">From Speech Pathology to Business Intelligence</a></h2>,\n",
       " <h2 class=\"entry-title\"><a href=\"https://codeup.com/behind-the-billboards/boris-behind-the-billboards/\">Boris – Behind the Billboards</a></h2>,\n",
       " <h2 class=\"entry-title\"><a href=\"https://codeup.com/codeup-news/is-codeup-the-best-bootcamp-in-san-antonio-or-the-world/\">Is Codeup the Best Bootcamp in San Antonio…or the World?</a></h2>,\n",
       " <h2 class=\"entry-title\"><a href=\"https://codeup.com/codeup-news/codeup-launches-first-podcast-hire-tech/\">Codeup Launches First Podcast: Hire Tech</a></h2>,\n",
       " <h2 class=\"entry-title\"><a href=\"https://codeup.com/tips-for-prospective-students/why-should-i-become-a-system-administrator/\">Why Should I Become a System Administrator?</a></h2>,\n",
       " <h2 class=\"entry-title\"><a href=\"https://codeup.com/codeup-news/codeup-candidate-for-accreditation/\">Announcing our Candidacy for Accreditation!</a></h2>,\n",
       " <h2 class=\"entry-title\"><a href=\"https://codeup.com/codeup-news/codeup-takes-over-more-of-the-historic-vogue-building/\">Codeup Takes Over More of the Historic Vogue Building</a></h2>,\n",
       " <h2 class=\"entry-title\"><a href=\"https://codeup.com/codeup-news/inclusion-at-codeup-during-pride-month-and-always/\">Inclusion at Codeup During Pride Month (and Always)</a></h2>]"
      ]
     },
     "execution_count": 33,
     "metadata": {},
     "output_type": "execute_result"
    }
   ],
   "source": [
    "articles = soup.find_all('h2', class_ = 'entry-title')\n",
    "articles"
   ]
  },
  {
   "cell_type": "code",
   "execution_count": 34,
   "metadata": {},
   "outputs": [
    {
     "data": {
      "text/plain": [
       "<h2 class=\"entry-title\"><a href=\"https://codeup.com/codeup-news/codeup-start-dates-for-march-2022/\">Codeup Start Dates for March 2022</a></h2>"
      ]
     },
     "execution_count": 34,
     "metadata": {},
     "output_type": "execute_result"
    }
   ],
   "source": [
    "articles[0]"
   ]
  },
  {
   "cell_type": "code",
   "execution_count": 35,
   "metadata": {},
   "outputs": [
    {
     "data": {
      "text/plain": [
       "<h2 class=\"entry-title\"><a href=\"https://codeup.com/codeup-news/codeup-start-dates-for-march-2022/\">Codeup Start Dates for March 2022</a></h2>"
      ]
     },
     "execution_count": 35,
     "metadata": {},
     "output_type": "execute_result"
    }
   ],
   "source": [
    "article = articles[0]\n",
    "article"
   ]
  },
  {
   "cell_type": "code",
   "execution_count": 36,
   "metadata": {},
   "outputs": [
    {
     "data": {
      "text/plain": [
       "'Codeup Start Dates for March 2022'"
      ]
     },
     "execution_count": 36,
     "metadata": {},
     "output_type": "execute_result"
    }
   ],
   "source": [
    "title = article.text\n",
    "title"
   ]
  },
  {
   "cell_type": "code",
   "execution_count": 37,
   "metadata": {
    "scrolled": true
   },
   "outputs": [
    {
     "data": {
      "text/plain": [
       "<h2 class=\"entry-title\"><a href=\"https://codeup.com/codeup-news/codeup-start-dates-for-march-2022/\">Codeup Start Dates for March 2022</a></h2>"
      ]
     },
     "execution_count": 37,
     "metadata": {},
     "output_type": "execute_result"
    }
   ],
   "source": [
    "article"
   ]
  },
  {
   "cell_type": "code",
   "execution_count": 38,
   "metadata": {},
   "outputs": [
    {
     "data": {
      "text/plain": [
       "'https://codeup.com/codeup-news/codeup-start-dates-for-march-2022/'"
      ]
     },
     "execution_count": 38,
     "metadata": {},
     "output_type": "execute_result"
    }
   ],
   "source": [
    "link = article.a.attrs['href']\n",
    "link"
   ]
  },
  {
   "cell_type": "code",
   "execution_count": 39,
   "metadata": {},
   "outputs": [],
   "source": [
    "def get_links():\n",
    "    link_list = []\n",
    "    response = requests.get('https://codeup.com/blog/', headers={'user-agent': 'Codeup DS Hopper'})\n",
    "    soup = BeautifulSoup(response.text)\n",
    "    articles = soup.find_all('h2', class_ = 'entry-title')\n",
    "    for article in articles:\n",
    "        link = article.a.attrs['href']\n",
    "        link_list.append(link)\n",
    "    return link_list"
   ]
  },
  {
   "cell_type": "code",
   "execution_count": 40,
   "metadata": {},
   "outputs": [],
   "source": [
    "def get_link(article):\n",
    "    link = article.a.attrs['href']\n",
    "    return link"
   ]
  },
  {
   "cell_type": "code",
   "execution_count": 41,
   "metadata": {},
   "outputs": [
    {
     "data": {
      "text/plain": [
       "'https://codeup.com/codeup-news/codeup-start-dates-for-march-2022/'"
      ]
     },
     "execution_count": 41,
     "metadata": {},
     "output_type": "execute_result"
    }
   ],
   "source": [
    "get_link(article)"
   ]
  },
  {
   "cell_type": "code",
   "execution_count": 42,
   "metadata": {},
   "outputs": [
    {
     "data": {
      "text/plain": [
       "['https://codeup.com/codeup-news/codeup-start-dates-for-march-2022/',\n",
       " 'https://codeup.com/codeup-news/vet-tec-funding-dallas/',\n",
       " 'https://codeup.com/codeup-news/dallas-campus-re-opens-with-new-grant-partner/',\n",
       " 'https://codeup.com/dallas-newsletter/codeup-dallas-open-house/',\n",
       " 'https://codeup.com/codeup-news/codeups-placement-team-continues-setting-records/',\n",
       " 'https://codeup.com/it-training/it-certifications-101/',\n",
       " 'https://codeup.com/cybersecurity/a-rise-in-cyber-attacks-means-opportunities-for-veterans-in-san-antonio/',\n",
       " 'https://codeup.com/codeup-news/use-your-gi-bill-benefits-to-land-a-job-in-tech/',\n",
       " 'https://codeup.com/tips-for-prospective-students/which-program-is-right-for-me-cyber-security-or-systems-engineering/',\n",
       " 'https://codeup.com/it-training/what-the-heck-is-system-engineering/',\n",
       " 'https://codeup.com/alumni-stories/from-speech-pathology-to-business-intelligence/',\n",
       " 'https://codeup.com/behind-the-billboards/boris-behind-the-billboards/',\n",
       " 'https://codeup.com/codeup-news/is-codeup-the-best-bootcamp-in-san-antonio-or-the-world/',\n",
       " 'https://codeup.com/codeup-news/codeup-launches-first-podcast-hire-tech/',\n",
       " 'https://codeup.com/tips-for-prospective-students/why-should-i-become-a-system-administrator/',\n",
       " 'https://codeup.com/codeup-news/codeup-candidate-for-accreditation/',\n",
       " 'https://codeup.com/codeup-news/codeup-takes-over-more-of-the-historic-vogue-building/',\n",
       " 'https://codeup.com/codeup-news/inclusion-at-codeup-during-pride-month-and-always/']"
      ]
     },
     "execution_count": 42,
     "metadata": {},
     "output_type": "execute_result"
    }
   ],
   "source": [
    "temp_list = get_links()\n",
    "temp_list"
   ]
  },
  {
   "cell_type": "code",
   "execution_count": 43,
   "metadata": {},
   "outputs": [],
   "source": [
    "article_response = requests.get(link, headers={'user-agent': 'Codeup DS Hopper'})\n",
    "article_soup = BeautifulSoup(article_response.text)\n",
    "# article_soup"
   ]
  },
  {
   "cell_type": "code",
   "execution_count": 44,
   "metadata": {},
   "outputs": [],
   "source": [
    "article_content = [p.text for p in article_soup.find_all('p')]"
   ]
  },
  {
   "cell_type": "code",
   "execution_count": 45,
   "metadata": {},
   "outputs": [
    {
     "data": {
      "text/plain": [
       "['Jan 26, 2022 | Codeup News',\n",
       " 'As we approach the end of January we wanted to look forward to our next start dates for all of our current programs.',\n",
       " 'Full Stack Web Development is the first program we built and also our most popular. You’ve asked and we listened! Our next Web Development cohort will start on 3/7/2022 and is ENTIRELY VIRTUAL! THESE SEATS WILL GO FAST!',\n",
       " 'As one of the most in-demand jobs in the country, software and web development is the tech career with the newest jobs. In the U.S., there’s:',\n",
       " '\\xa0',\n",
       " 'Our first new Data Science class of 2022 starts Monday 3/22/2022 at our downtown campus at the Vogue building.',\n",
       " 'Why consider pivoting careers to Data Science?',\n",
       " 'The supply of data scientists remains painfully low compared to the outrageous demand. YOU can help close the gap while launching a fulfilling, secure, and high-paying career – one of the very best in the country!',\n",
       " 'Employers are scrambling to find talent due to a lack of qualified applicants. YOU can help fill the gap while future-proofing your skillset. Have the flexibility, security, and salary that you’ve always wanted in a career.',\n",
       " 'Are you ready to launch your career in tech? Apply today so our admissions team can save your seat and get your name on the list. Our application can be found here.\\xa0',\n",
       " 'Want to experience Codeup early? Join one of our workshops to get an intro to a specific coding language, learn about our financing options, or maybe even code yourself a resume! All of our events can be located here.\\xa0',\n",
       " 'We can’t wait to help you launch your career in tech!',\n",
       " '',\n",
       " '',\n",
       " '',\n",
       " 'Submit your email address to gain access to more information about our programs, financial aid, and benefits. We may even send you some free swag!',\n",
       " '(210) 802–7289',\n",
       " 'Why Codeup? Financial Aid Options Student Reviews Employers Refund PolicyFAQsCareersMedia Kit',\n",
       " 'Full Stack Web Development Data ScienceIT / Systems Engineering Free Networking Course']"
      ]
     },
     "execution_count": 45,
     "metadata": {},
     "output_type": "execute_result"
    }
   ],
   "source": [
    "article_content"
   ]
  },
  {
   "cell_type": "code",
   "execution_count": null,
   "metadata": {},
   "outputs": [],
   "source": []
  },
  {
   "cell_type": "code",
   "execution_count": null,
   "metadata": {},
   "outputs": [],
   "source": []
  },
  {
   "cell_type": "code",
   "execution_count": null,
   "metadata": {},
   "outputs": [],
   "source": []
  },
  {
   "cell_type": "code",
   "execution_count": 46,
   "metadata": {},
   "outputs": [],
   "source": [
    "# # for content:\n",
    "# summaries = soup.find_all('div',class_=\"post-content\")\n",
    "# summaries[0]"
   ]
  },
  {
   "cell_type": "code",
   "execution_count": 47,
   "metadata": {
    "scrolled": true
   },
   "outputs": [],
   "source": [
    "# summary = summaries[0].text.strip()\n",
    "# summary"
   ]
  },
  {
   "cell_type": "code",
   "execution_count": 48,
   "metadata": {},
   "outputs": [],
   "source": [
    "# def get_blog_articles(article):\n",
    "#     response = requests.get('https://codeup.com/blog/', headers={'user-agent': 'Codeup DS Hopper'})\n",
    "#     soup = BeautifulSoup(response.text)\n",
    "#     articles = soup.find_all('h2', class_ = 'entry-title')\n",
    "#     title = article.text\n",
    "#     link = article.a.attrs['href']\n",
    "#     article_response = requests.get(link, headers={'user-agent': 'Codeup DS Hopper'})\n",
    "#     article_soup = BeautifulSoup(article_response.text)\n",
    "#     article_content = [p.text for p in article_soup.find_all('p')]\n",
    "\n",
    "#     return {\n",
    "#         'title': title, 'article_content': article_content\n",
    "#     }\n",
    "\n",
    "\n",
    "# codeup_blog_posts = pd.DataFrame([get_blog_articles(article) for article in articles])\n",
    "\n",
    "\n",
    "\n",
    "### this was the original, working function i created before making it more \n",
    "### complicated with the link function and writing to json\n"
   ]
  },
  {
   "cell_type": "code",
   "execution_count": 49,
   "metadata": {},
   "outputs": [],
   "source": [
    "# def get_blog_articles():\n",
    "#     filename = 'codeup_blog_articles.json'\n",
    "#     if os.path.isfile(filename):\n",
    "#         return pd.read_csv(filename)\n",
    "    \n",
    "#     else:\n",
    "#         article_list=[]\n",
    "#         response = requests.get('https://codeup.com/blog/', headers={'user-agent': 'Codeup DS Hopper'})\n",
    "#         soup = BeautifulSoup(response.text)\n",
    "#         articles = soup.find_all('h2', class_ = 'entry-title')\n",
    "#         for article in articles:\n",
    "# #             response = requests.get('https://codeup.com/blog/', headers={'user-agent': 'Codeup DS Hopper'})\n",
    "# #             soup = BeautifulSoup(response.text)\n",
    "# #             articles = soup.find_all('h2', class_ = 'entry-title')\n",
    "#             title = article.text\n",
    "#             links = get_links()\n",
    "#             for link in links:\n",
    "#                 article_response = requests.get(link, headers={'user-agent': 'Codeup DS Hopper'})\n",
    "#                 article_soup = BeautifulSoup(article_response.text)\n",
    "#                 article_content = [p.text for p in article_soup.find_all('p')]\n",
    "\n",
    "#                 article = {\n",
    "#                     'title': title, 'article_content': article_content\n",
    "#                 }\n",
    "#             article_list.append(article)\n",
    "#         df = pd.DataFrame(article_list)\n",
    "#         df.to_json('codeup_blog_articles.json')\n",
    "#     return df\n",
    "\n",
    "\n",
    "\n",
    "# this function was a nice try, but got into an infinity loop"
   ]
  },
  {
   "cell_type": "code",
   "execution_count": 50,
   "metadata": {},
   "outputs": [],
   "source": [
    "def get_blog_articles():\n",
    "    filename = 'codeup_blog_articles.json'\n",
    "    if os.path.isfile(filename):\n",
    "        return pd.read_csv(filename)\n",
    "    \n",
    "    else:\n",
    "        article_list=[]\n",
    "        response = requests.get('https://codeup.com/blog/', headers={'user-agent': 'Codeup DS Hopper'})\n",
    "        soup = BeautifulSoup(response.text)\n",
    "        articles = soup.find_all('h2', class_ = 'entry-title')\n",
    "        for article in articles:\n",
    "            title = article.text\n",
    "            link = get_link(article)\n",
    "            article_response = requests.get(link, headers={'user-agent': 'Codeup DS Hopper'})\n",
    "            article_soup = BeautifulSoup(article_response.text)\n",
    "            article_content = [p.text for p in article_soup.find_all('p')]\n",
    "\n",
    "            article = {\n",
    "                'title': title, 'article_content': article_content\n",
    "            }\n",
    "            article_list.append(article)\n",
    "        df = pd.DataFrame(article_list)\n",
    "        df.to_json('codeup_blog_articles.json')\n",
    "    return df\n",
    "\n",
    "\n",
    "# Great, this function is working now"
   ]
  },
  {
   "cell_type": "code",
   "execution_count": 51,
   "metadata": {},
   "outputs": [
    {
     "data": {
      "text/html": [
       "<div>\n",
       "<style scoped>\n",
       "    .dataframe tbody tr th:only-of-type {\n",
       "        vertical-align: middle;\n",
       "    }\n",
       "\n",
       "    .dataframe tbody tr th {\n",
       "        vertical-align: top;\n",
       "    }\n",
       "\n",
       "    .dataframe thead th {\n",
       "        text-align: right;\n",
       "    }\n",
       "</style>\n",
       "<table border=\"1\" class=\"dataframe\">\n",
       "  <thead>\n",
       "    <tr style=\"text-align: right;\">\n",
       "      <th></th>\n",
       "      <th>title</th>\n",
       "      <th>article_content</th>\n",
       "    </tr>\n",
       "  </thead>\n",
       "  <tbody>\n",
       "    <tr>\n",
       "      <th>0</th>\n",
       "      <td>Codeup Start Dates for March 2022</td>\n",
       "      <td>[Jan 26, 2022 | Codeup News, As we approach th...</td>\n",
       "    </tr>\n",
       "    <tr>\n",
       "      <th>1</th>\n",
       "      <td>VET TEC Funding Now Available For Dallas Veterans</td>\n",
       "      <td>[Jan 7, 2022 | Codeup News, Dallas Newsletter,...</td>\n",
       "    </tr>\n",
       "    <tr>\n",
       "      <th>2</th>\n",
       "      <td>Dallas Campus Re-opens With New Grant Partner</td>\n",
       "      <td>[Dec 30, 2021 | Codeup News, Featured, We are ...</td>\n",
       "    </tr>\n",
       "    <tr>\n",
       "      <th>3</th>\n",
       "      <td>Codeup Dallas Open House</td>\n",
       "      <td>[Nov 30, 2021 | Dallas Newsletter, Events, Com...</td>\n",
       "    </tr>\n",
       "    <tr>\n",
       "      <th>4</th>\n",
       "      <td>Codeup’s Placement Team Continues Setting Records</td>\n",
       "      <td>[Nov 19, 2021 | Codeup News, Employers, Who ex...</td>\n",
       "    </tr>\n",
       "    <tr>\n",
       "      <th>5</th>\n",
       "      <td>IT Certifications 101: Why They Matter, and Wh...</td>\n",
       "      <td>[Nov 18, 2021 | IT Training, Tips for Prospect...</td>\n",
       "    </tr>\n",
       "    <tr>\n",
       "      <th>6</th>\n",
       "      <td>A rise in cyber attacks means opportunities fo...</td>\n",
       "      <td>[Nov 17, 2021 | Cybersecurity, In the last few...</td>\n",
       "    </tr>\n",
       "    <tr>\n",
       "      <th>7</th>\n",
       "      <td>Use your GI Bill® benefits to Land a Job in Tech</td>\n",
       "      <td>[Nov 4, 2021 | Codeup News, Tips for Prospecti...</td>\n",
       "    </tr>\n",
       "    <tr>\n",
       "      <th>8</th>\n",
       "      <td>Which program is right for me: Cyber Security ...</td>\n",
       "      <td>[Oct 28, 2021 | IT Training, Tips for Prospect...</td>\n",
       "    </tr>\n",
       "    <tr>\n",
       "      <th>9</th>\n",
       "      <td>What the Heck is System Engineering?</td>\n",
       "      <td>[Oct 21, 2021 | IT Training, Tips for Prospect...</td>\n",
       "    </tr>\n",
       "    <tr>\n",
       "      <th>10</th>\n",
       "      <td>From Speech Pathology to Business Intelligence</td>\n",
       "      <td>[Oct 18, 2021 | Alumni Stories, Before Codeup,...</td>\n",
       "    </tr>\n",
       "    <tr>\n",
       "      <th>11</th>\n",
       "      <td>Boris – Behind the Billboards</td>\n",
       "      <td>[Oct 3, 2021 | Behind the Billboards, \\n, , , ...</td>\n",
       "    </tr>\n",
       "    <tr>\n",
       "      <th>12</th>\n",
       "      <td>Is Codeup the Best Bootcamp in San Antonio…or ...</td>\n",
       "      <td>[Sep 16, 2021 | Codeup News, Featured, Looking...</td>\n",
       "    </tr>\n",
       "    <tr>\n",
       "      <th>13</th>\n",
       "      <td>Codeup Launches First Podcast: Hire Tech</td>\n",
       "      <td>[Aug 25, 2021 | Codeup News, Featured, Any pod...</td>\n",
       "    </tr>\n",
       "    <tr>\n",
       "      <th>14</th>\n",
       "      <td>Why Should I Become a System Administrator?</td>\n",
       "      <td>[Aug 23, 2021 | IT Training, Tips for Prospect...</td>\n",
       "    </tr>\n",
       "    <tr>\n",
       "      <th>15</th>\n",
       "      <td>Announcing our Candidacy for Accreditation!</td>\n",
       "      <td>[Jun 30, 2021 | Codeup News, Did you know that...</td>\n",
       "    </tr>\n",
       "    <tr>\n",
       "      <th>16</th>\n",
       "      <td>Codeup Takes Over More of the Historic Vogue B...</td>\n",
       "      <td>[Jun 21, 2021 | Codeup News, Featured, Codeup ...</td>\n",
       "    </tr>\n",
       "    <tr>\n",
       "      <th>17</th>\n",
       "      <td>Inclusion at Codeup During Pride Month (and Al...</td>\n",
       "      <td>[Jun 4, 2021 | Codeup News, Happy Pride Month!...</td>\n",
       "    </tr>\n",
       "  </tbody>\n",
       "</table>\n",
       "</div>"
      ],
      "text/plain": [
       "                                                title  \\\n",
       "0                   Codeup Start Dates for March 2022   \n",
       "1   VET TEC Funding Now Available For Dallas Veterans   \n",
       "2       Dallas Campus Re-opens With New Grant Partner   \n",
       "3                            Codeup Dallas Open House   \n",
       "4   Codeup’s Placement Team Continues Setting Records   \n",
       "5   IT Certifications 101: Why They Matter, and Wh...   \n",
       "6   A rise in cyber attacks means opportunities fo...   \n",
       "7    Use your GI Bill® benefits to Land a Job in Tech   \n",
       "8   Which program is right for me: Cyber Security ...   \n",
       "9                What the Heck is System Engineering?   \n",
       "10     From Speech Pathology to Business Intelligence   \n",
       "11                      Boris – Behind the Billboards   \n",
       "12  Is Codeup the Best Bootcamp in San Antonio…or ...   \n",
       "13           Codeup Launches First Podcast: Hire Tech   \n",
       "14        Why Should I Become a System Administrator?   \n",
       "15        Announcing our Candidacy for Accreditation!   \n",
       "16  Codeup Takes Over More of the Historic Vogue B...   \n",
       "17  Inclusion at Codeup During Pride Month (and Al...   \n",
       "\n",
       "                                      article_content  \n",
       "0   [Jan 26, 2022 | Codeup News, As we approach th...  \n",
       "1   [Jan 7, 2022 | Codeup News, Dallas Newsletter,...  \n",
       "2   [Dec 30, 2021 | Codeup News, Featured, We are ...  \n",
       "3   [Nov 30, 2021 | Dallas Newsletter, Events, Com...  \n",
       "4   [Nov 19, 2021 | Codeup News, Employers, Who ex...  \n",
       "5   [Nov 18, 2021 | IT Training, Tips for Prospect...  \n",
       "6   [Nov 17, 2021 | Cybersecurity, In the last few...  \n",
       "7   [Nov 4, 2021 | Codeup News, Tips for Prospecti...  \n",
       "8   [Oct 28, 2021 | IT Training, Tips for Prospect...  \n",
       "9   [Oct 21, 2021 | IT Training, Tips for Prospect...  \n",
       "10  [Oct 18, 2021 | Alumni Stories, Before Codeup,...  \n",
       "11  [Oct 3, 2021 | Behind the Billboards, \\n, , , ...  \n",
       "12  [Sep 16, 2021 | Codeup News, Featured, Looking...  \n",
       "13  [Aug 25, 2021 | Codeup News, Featured, Any pod...  \n",
       "14  [Aug 23, 2021 | IT Training, Tips for Prospect...  \n",
       "15  [Jun 30, 2021 | Codeup News, Did you know that...  \n",
       "16  [Jun 21, 2021 | Codeup News, Featured, Codeup ...  \n",
       "17  [Jun 4, 2021 | Codeup News, Happy Pride Month!...  "
      ]
     },
     "execution_count": 51,
     "metadata": {},
     "output_type": "execute_result"
    }
   ],
   "source": [
    "codeup_blog_posts = get_blog_articles()\n",
    "codeup_blog_posts"
   ]
  },
  {
   "cell_type": "code",
   "execution_count": 52,
   "metadata": {},
   "outputs": [],
   "source": [
    "# codeup_blog_posts = pd.DataFrame([get_blog_articles(article) for article in articles])\n"
   ]
  },
  {
   "cell_type": "code",
   "execution_count": 53,
   "metadata": {},
   "outputs": [],
   "source": [
    "# codeup_blog_posts = \n",
    "# codeup_blog_posts"
   ]
  },
  {
   "cell_type": "code",
   "execution_count": 54,
   "metadata": {},
   "outputs": [],
   "source": [
    "# codeup_blog_posts.article_content[0]"
   ]
  },
  {
   "cell_type": "markdown",
   "metadata": {},
   "source": [
    "### Cracked it : )"
   ]
  },
  {
   "cell_type": "markdown",
   "metadata": {},
   "source": [
    "# News Articles\n",
    "\n",
    "We will now be scraping text data from inshorts, a website that provides a brief overview of many different topics.\n",
    "\n",
    "Write a function that scrapes the news articles for the following topics:\n",
    "\n",
    "- Business\n",
    "- Sports\n",
    "- Technology\n",
    "- Entertainment\n",
    "\n",
    "The end product of this should be a function named get_news_articles that returns a list of dictionaries, where each dictionary has this shape:\n",
    "\n",
    "\n",
    "`\n",
    "{\n",
    "    'title': 'The article title',\n",
    "    'content': 'The article content',\n",
    "    'category': 'business' # for example\n",
    "}\n",
    "`"
   ]
  },
  {
   "cell_type": "code",
   "execution_count": 55,
   "metadata": {},
   "outputs": [],
   "source": [
    "base_url = 'https://inshorts.com'\n",
    "section_links = [\"/en/read/business\",\"/en/read/sports\",\"/en/read/technology\",\"/en/read/entertainment\"]\n",
    "response = requests.get(base_url + '/en/read', headers={'user-agent': 'ds_student'})\n",
    "soup = BeautifulSoup(response.text)\n"
   ]
  },
  {
   "cell_type": "code",
   "execution_count": 56,
   "metadata": {},
   "outputs": [
    {
     "data": {
      "text/plain": [
       "<Response [200]>"
      ]
     },
     "execution_count": 56,
     "metadata": {},
     "output_type": "execute_result"
    }
   ],
   "source": [
    "response"
   ]
  },
  {
   "cell_type": "code",
   "execution_count": 57,
   "metadata": {},
   "outputs": [
    {
     "data": {
      "text/plain": [
       "[<li class=\"active-category selected\">All News</li>,\n",
       " <li class=\"active-category\">India</li>,\n",
       " <li class=\"active-category\">Business</li>,\n",
       " <li class=\"active-category\">Sports</li>,\n",
       " <li class=\"active-category\">World</li>,\n",
       " <li class=\"active-category\">Politics</li>,\n",
       " <li class=\"active-category\">Technology</li>,\n",
       " <li class=\"active-category\">Startup</li>,\n",
       " <li class=\"active-category\">Entertainment</li>,\n",
       " <li class=\"active-category\">Miscellaneous</li>,\n",
       " <li class=\"active-category\">Hatke</li>,\n",
       " <li class=\"active-category\">Science</li>,\n",
       " <li class=\"active-category\">Automobile</li>]"
      ]
     },
     "execution_count": 57,
     "metadata": {},
     "output_type": "execute_result"
    }
   ],
   "source": [
    "soup.find_all(class_ = 'active-category')"
   ]
  },
  {
   "cell_type": "code",
   "execution_count": 58,
   "metadata": {},
   "outputs": [],
   "source": [
    "temp = soup.find_all('ul')"
   ]
  },
  {
   "cell_type": "code",
   "execution_count": 59,
   "metadata": {
    "scrolled": true
   },
   "outputs": [
    {
     "data": {
      "text/plain": [
       "{'class': ['category-list']}"
      ]
     },
     "execution_count": 59,
     "metadata": {},
     "output_type": "execute_result"
    }
   ],
   "source": [
    "soup.ul.attrs"
   ]
  },
  {
   "cell_type": "code",
   "execution_count": 60,
   "metadata": {},
   "outputs": [],
   "source": [
    "temp2 = soup.ul.find_all('a')"
   ]
  },
  {
   "cell_type": "code",
   "execution_count": 61,
   "metadata": {},
   "outputs": [
    {
     "data": {
      "text/plain": [
       "[<a href=\"/en/read\" onclick=\"track_GA_Mixpanel({'hitType': 'event', 'category': 'LinkToAllNews', 'action': 'clicked', 'label': 'RedirectedToAllNews' });\"> <li class=\"active-category selected\">All News</li> </a>,\n",
       " <a href=\"/en/read/national\" onclick=\"track_GA_Mixpanel({'hitType': 'event', 'category': 'LinkToIndiaNews', 'action': 'clicked', 'label': 'RedirectedToIndiaNews' });\"> <li class=\"active-category\">India</li> </a>,\n",
       " <a href=\"/en/read/business\" onclick=\"track_GA_Mixpanel({'hitType': 'event', 'category': 'LinkToBusinessNews', 'action': 'clicked', 'label':  'RedirectedToBusinessNews' });\"> <li class=\"active-category\">Business</li> </a>,\n",
       " <a href=\"/en/read/sports\" onclick=\"track_GA_Mixpanel({'hitType': 'event', 'category': 'LinkTosportsNews', 'action': 'clicked', 'label': 'RedirectedToSportsNews' });\"> <li class=\"active-category\">Sports</li> </a>,\n",
       " <a href=\"/en/read/world\" onclick=\"track_GA_Mixpanel({'hitType': 'event', 'category': 'LinkToworldNews', 'action': 'clicked', 'label': 'RedirectedToworldNews' });\"> <li class=\"active-category\">World</li> </a>,\n",
       " <a href=\"/en/read/politics\" onclick=\"track_GA_Mixpanel({'hitType': 'event', 'category': 'LinkToworldNews', 'action': 'clicked',   'label': 'RedirectedToworldNews' });\"> <li class=\"active-category\">Politics</li> </a>,\n",
       " <a href=\"/en/read/technology\" onclick=\"track_GA_Mixpanel({'hitType': 'event', 'category': 'LinkTotechnologyNews', 'action': 'clicked', 'label': 'RedirectedTotechnologyNews' });\"> <li class=\"active-category\">Technology</li> </a>,\n",
       " <a href=\"/en/read/startup\" onclick=\"track_GA_Mixpanel({'hitType': 'event', 'category': 'LinkTostartupNews', 'action': 'clicked', 'label': 'RedirectedTostartupNews' });\"> <li class=\"active-category\">Startup</li> </a>,\n",
       " <a href=\"/en/read/entertainment\" onclick=\"track_GA_Mixpanel({'hitType': 'event', 'category': 'LinkToEntertainmentNews', 'action': 'clicked', 'label': 'RedirectedToEntertainmentNews' });\"> <li class=\"active-category\">Entertainment</li> </a>,\n",
       " <a href=\"/en/read/miscellaneous\" onclick=\"track_GA_Mixpanel({'hitType': 'event', 'category': 'LinkToMiscellaneousNews', 'action': 'clicked', 'label': 'RedirectedToMiscellaneousNews' });\"> <li class=\"active-category\">Miscellaneous</li> </a>,\n",
       " <a href=\"/en/read/hatke\" onclick=\"track_GA_Mixpanel({'hitType': 'event', 'category': 'LinkTohatkeNews', 'action': 'clicked', 'label': 'RedirectedTohatkeNews' });\"> <li class=\"active-category\">Hatke</li> </a>,\n",
       " <a href=\"/en/read/science\" onclick=\"track_GA_Mixpanel({'hitType': 'event', 'category': 'LinkToscienceNews', 'action': 'clicked', 'label': 'RedirectedToscienceNews' });\"> <li class=\"active-category\">Science</li> </a>,\n",
       " <a href=\"/en/read/automobile\" onclick=\"track_GA_Mixpanel({'hitType': 'event', 'category': 'LinkToautomobileNews', 'action': 'clicked', 'label': 'RedirectedToautomobileNews' });\"> <li class=\"active-category\">Automobile</li> </a>]"
      ]
     },
     "execution_count": 61,
     "metadata": {},
     "output_type": "execute_result"
    }
   ],
   "source": [
    "temp2"
   ]
  },
  {
   "cell_type": "code",
   "execution_count": 62,
   "metadata": {
    "scrolled": true
   },
   "outputs": [
    {
     "data": {
      "text/plain": [
       "<a href=\"/en/read/business\" onclick=\"track_GA_Mixpanel({'hitType': 'event', 'category': 'LinkToBusinessNews', 'action': 'clicked', 'label':  'RedirectedToBusinessNews' });\"> <li class=\"active-category\">Business</li> </a>"
      ]
     },
     "execution_count": 62,
     "metadata": {},
     "output_type": "execute_result"
    }
   ],
   "source": [
    "temp2[2]"
   ]
  },
  {
   "cell_type": "code",
   "execution_count": 63,
   "metadata": {},
   "outputs": [],
   "source": [
    "temp3 = soup.ul.find_all('a')"
   ]
  },
  {
   "cell_type": "code",
   "execution_count": null,
   "metadata": {},
   "outputs": [],
   "source": []
  },
  {
   "cell_type": "code",
   "execution_count": 64,
   "metadata": {
    "scrolled": true
   },
   "outputs": [
    {
     "data": {
      "text/plain": [
       "[<a href=\"/en/read\" onclick=\"track_GA_Mixpanel({'hitType': 'event', 'category': 'LinkToAllNews', 'action': 'clicked', 'label': 'RedirectedToAllNews' });\"> <li class=\"active-category selected\">All News</li> </a>,\n",
       " <a href=\"/en/read/national\" onclick=\"track_GA_Mixpanel({'hitType': 'event', 'category': 'LinkToIndiaNews', 'action': 'clicked', 'label': 'RedirectedToIndiaNews' });\"> <li class=\"active-category\">India</li> </a>,\n",
       " <a href=\"/en/read/business\" onclick=\"track_GA_Mixpanel({'hitType': 'event', 'category': 'LinkToBusinessNews', 'action': 'clicked', 'label':  'RedirectedToBusinessNews' });\"> <li class=\"active-category\">Business</li> </a>,\n",
       " <a href=\"/en/read/sports\" onclick=\"track_GA_Mixpanel({'hitType': 'event', 'category': 'LinkTosportsNews', 'action': 'clicked', 'label': 'RedirectedToSportsNews' });\"> <li class=\"active-category\">Sports</li> </a>,\n",
       " <a href=\"/en/read/world\" onclick=\"track_GA_Mixpanel({'hitType': 'event', 'category': 'LinkToworldNews', 'action': 'clicked', 'label': 'RedirectedToworldNews' });\"> <li class=\"active-category\">World</li> </a>,\n",
       " <a href=\"/en/read/politics\" onclick=\"track_GA_Mixpanel({'hitType': 'event', 'category': 'LinkToworldNews', 'action': 'clicked',   'label': 'RedirectedToworldNews' });\"> <li class=\"active-category\">Politics</li> </a>,\n",
       " <a href=\"/en/read/technology\" onclick=\"track_GA_Mixpanel({'hitType': 'event', 'category': 'LinkTotechnologyNews', 'action': 'clicked', 'label': 'RedirectedTotechnologyNews' });\"> <li class=\"active-category\">Technology</li> </a>,\n",
       " <a href=\"/en/read/startup\" onclick=\"track_GA_Mixpanel({'hitType': 'event', 'category': 'LinkTostartupNews', 'action': 'clicked', 'label': 'RedirectedTostartupNews' });\"> <li class=\"active-category\">Startup</li> </a>,\n",
       " <a href=\"/en/read/entertainment\" onclick=\"track_GA_Mixpanel({'hitType': 'event', 'category': 'LinkToEntertainmentNews', 'action': 'clicked', 'label': 'RedirectedToEntertainmentNews' });\"> <li class=\"active-category\">Entertainment</li> </a>,\n",
       " <a href=\"/en/read/miscellaneous\" onclick=\"track_GA_Mixpanel({'hitType': 'event', 'category': 'LinkToMiscellaneousNews', 'action': 'clicked', 'label': 'RedirectedToMiscellaneousNews' });\"> <li class=\"active-category\">Miscellaneous</li> </a>,\n",
       " <a href=\"/en/read/hatke\" onclick=\"track_GA_Mixpanel({'hitType': 'event', 'category': 'LinkTohatkeNews', 'action': 'clicked', 'label': 'RedirectedTohatkeNews' });\"> <li class=\"active-category\">Hatke</li> </a>,\n",
       " <a href=\"/en/read/science\" onclick=\"track_GA_Mixpanel({'hitType': 'event', 'category': 'LinkToscienceNews', 'action': 'clicked', 'label': 'RedirectedToscienceNews' });\"> <li class=\"active-category\">Science</li> </a>,\n",
       " <a href=\"/en/read/automobile\" onclick=\"track_GA_Mixpanel({'hitType': 'event', 'category': 'LinkToautomobileNews', 'action': 'clicked', 'label': 'RedirectedToautomobileNews' });\"> <li class=\"active-category\">Automobile</li> </a>]"
      ]
     },
     "execution_count": 64,
     "metadata": {},
     "output_type": "execute_result"
    }
   ],
   "source": [
    "temp3"
   ]
  },
  {
   "cell_type": "markdown",
   "metadata": {},
   "source": [
    "### might need to come back to this and try an easier approach--for example, just break down the section page instead of trying to access through the main page"
   ]
  },
  {
   "cell_type": "code",
   "execution_count": null,
   "metadata": {},
   "outputs": [],
   "source": []
  },
  {
   "cell_type": "code",
   "execution_count": 65,
   "metadata": {},
   "outputs": [],
   "source": [
    "import os\n",
    "\n",
    "def get_titanic_data():\n",
    "    filename = \"titanic.csv\"\n",
    "\n",
    "    if os.path.isfile(filename):\n",
    "        return pd.read_csv(filename)\n",
    "    else:\n",
    "        # read the SQL query into a dataframe\n",
    "        df = pd.read_sql('SELECT * FROM passengers', get_connection('titanic_db'))\n",
    "\n",
    "        # Write that dataframe to disk for later. Called \"caching\" the data for later.\n",
    "        df.to_file(filename)\n",
    "\n",
    "        # Return the dataframe to the calling code\n",
    "        return df  \n"
   ]
  }
 ],
 "metadata": {
  "interpreter": {
   "hash": "38cca0c38332a56087b24af0bc80247f4fced29cb4f7f437d91dc159adec9c4e"
  },
  "kernelspec": {
   "display_name": "Python 3",
   "language": "python",
   "name": "python3"
  },
  "language_info": {
   "codemirror_mode": {
    "name": "ipython",
    "version": 3
   },
   "file_extension": ".py",
   "mimetype": "text/x-python",
   "name": "python",
   "nbconvert_exporter": "python",
   "pygments_lexer": "ipython3",
   "version": "3.8.8"
  }
 },
 "nbformat": 4,
 "nbformat_minor": 4
}
